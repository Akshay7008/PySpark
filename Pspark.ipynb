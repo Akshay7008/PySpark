{
 "cells": [
  {
   "cell_type": "code",
   "execution_count": 0,
   "metadata": {
    "application/vnd.databricks.v1+cell": {
     "cellMetadata": {
      "byteLimit": 2048000,
      "rowLimit": 10000
     },
     "inputWidgets": {},
     "nuid": "22ef144f-28d5-447c-b865-e324ff7924fd",
     "showTitle": false,
     "title": ""
    }
   },
   "outputs": [
    {
     "output_type": "display_data",
     "data": {
      "text/html": [
       "\n",
       "            <div>\n",
       "                <p><b>SparkSession - hive</b></p>\n",
       "                \n",
       "        <div>\n",
       "            <p><b>SparkContext</b></p>\n",
       "\n",
       "            <p><a href=\"/?o=5779752722754761#setting/sparkui/0602-071016-i0ao1z5c/driver-1502771119983575096\">Spark UI</a></p>\n",
       "\n",
       "            <dl>\n",
       "              <dt>Version</dt>\n",
       "                <dd><code>v3.3.2</code></dd>\n",
       "              <dt>Master</dt>\n",
       "                <dd><code>local[8]</code></dd>\n",
       "              <dt>AppName</dt>\n",
       "                <dd><code>Databricks Shell</code></dd>\n",
       "            </dl>\n",
       "        </div>\n",
       "        \n",
       "            </div>\n",
       "        "
      ]
     },
     "metadata": {
      "application/vnd.databricks.v1+output": {
       "addedWidgets": {},
       "arguments": {},
       "data": "\n            <div>\n                <p><b>SparkSession - hive</b></p>\n                \n        <div>\n            <p><b>SparkContext</b></p>\n\n            <p><a href=\"/?o=5779752722754761#setting/sparkui/0602-071016-i0ao1z5c/driver-1502771119983575096\">Spark UI</a></p>\n\n            <dl>\n              <dt>Version</dt>\n                <dd><code>v3.3.2</code></dd>\n              <dt>Master</dt>\n                <dd><code>local[8]</code></dd>\n              <dt>AppName</dt>\n                <dd><code>Databricks Shell</code></dd>\n            </dl>\n        </div>\n        \n            </div>\n        ",
       "datasetInfos": [],
       "metadata": {},
       "removedWidgets": [],
       "textData": null,
       "type": "htmlSandbox"
      }
     },
     "output_type": "display_data"
    }
   ],
   "source": [
    "spark"
   ]
  },
  {
   "cell_type": "markdown",
   "metadata": {
    "application/vnd.databricks.v1+cell": {
     "cellMetadata": {
      "byteLimit": 2048000,
      "rowLimit": 10000
     },
     "inputWidgets": {},
     "nuid": "d59eb4cb-2986-4c68-97d3-aa293a8e83b7",
     "showTitle": false,
     "title": ""
    }
   },
   "source": [
    "Read file in Spark"
   ]
  },
  {
   "cell_type": "code",
   "execution_count": 0,
   "metadata": {
    "application/vnd.databricks.v1+cell": {
     "cellMetadata": {
      "byteLimit": 2048000,
      "rowLimit": 10000
     },
     "inputWidgets": {},
     "nuid": "e7e28e2f-9821-49c4-bae6-ff4dc505213d",
     "showTitle": true,
     "title": "Read file in Spark"
    }
   },
   "outputs": [
    {
     "output_type": "stream",
     "name": "stdout",
     "output_type": "stream",
     "text": [
      "+-----------------+-------------------+-----+\n|              _c0|                _c1|  _c2|\n+-----------------+-------------------+-----+\n|DEST_COUNTRY_NAME|ORIGIN_COUNTRY_NAME|count|\n|    United States|            Romania|    1|\n|    United States|            Ireland|  264|\n|    United States|              India|   69|\n|            Egypt|      United States|   24|\n+-----------------+-------------------+-----+\nonly showing top 5 rows\n\n"
     ]
    }
   ],
   "source": [
    "flight_df=spark.read.format(\"csv\")\\\n",
    "          .option(\"header\",\"False\")\\\n",
    "              .option(\"inferschema\",\"False\")\\\n",
    "                  .option(\"mode\",\"FAILFAST\")\\\n",
    "                      .load(\"/FileStore/tables/2010_summary.csv\")\n",
    "\n",
    "\n",
    "flight_df.show(5)"
   ]
  },
  {
   "cell_type": "code",
   "execution_count": 0,
   "metadata": {
    "application/vnd.databricks.v1+cell": {
     "cellMetadata": {
      "byteLimit": 2048000,
      "rowLimit": 10000
     },
     "inputWidgets": {},
     "nuid": "2ffcf5ae-9a41-4a55-aad4-57da0742ec73",
     "showTitle": false,
     "title": ""
    }
   },
   "outputs": [
    {
     "output_type": "stream",
     "name": "stdout",
     "output_type": "stream",
     "text": [
      "+-----------------+-------------------+-----+\n|DEST_COUNTRY_NAME|ORIGIN_COUNTRY_NAME|count|\n+-----------------+-------------------+-----+\n|    United States|            Romania|    1|\n|    United States|            Ireland|  264|\n|    United States|              India|   69|\n|            Egypt|      United States|   24|\n|Equatorial Guinea|      United States|    1|\n+-----------------+-------------------+-----+\nonly showing top 5 rows\n\n"
     ]
    }
   ],
   "source": [
    "flight_df_header=spark.read.format(\"csv\")\\\n",
    "          .option(\"header\",\"True\")\\\n",
    "              .option(\"inferschema\",\"True\")\\\n",
    "                  .option(\"mode\",\"FAILFAST\")\\\n",
    "                      .load(\"/FileStore/tables/2010_summary.csv\")\n",
    "\n",
    "flight_df_header.show(5)"
   ]
  },
  {
   "cell_type": "code",
   "execution_count": 0,
   "metadata": {
    "application/vnd.databricks.v1+cell": {
     "cellMetadata": {
      "byteLimit": 2048000,
      "rowLimit": 10000
     },
     "inputWidgets": {},
     "nuid": "772c9203-cef6-4315-82b4-417dd0ee3aed",
     "showTitle": false,
     "title": ""
    }
   },
   "outputs": [
    {
     "output_type": "stream",
     "name": "stdout",
     "output_type": "stream",
     "text": [
      "root\n |-- DEST_COUNTRY_NAME: string (nullable = true)\n |-- ORIGIN_COUNTRY_NAME: string (nullable = true)\n |-- count: integer (nullable = true)\n\n"
     ]
    }
   ],
   "source": [
    "flight_df_header.printSchema()"
   ]
  },
  {
   "cell_type": "markdown",
   "metadata": {
    "application/vnd.databricks.v1+cell": {
     "cellMetadata": {
      "byteLimit": 2048000,
      "rowLimit": 10000
     },
     "inputWidgets": {},
     "nuid": "8ec9383e-70b0-4f31-bfd3-91670362b797",
     "showTitle": false,
     "title": ""
    }
   },
   "source": [
    "Creating Schema Using Struct type, field "
   ]
  },
  {
   "cell_type": "code",
   "execution_count": 0,
   "metadata": {
    "application/vnd.databricks.v1+cell": {
     "cellMetadata": {
      "byteLimit": 2048000,
      "rowLimit": 10000
     },
     "inputWidgets": {},
     "nuid": "d7b1bc69-f967-40c7-93bf-5a1cb0174391",
     "showTitle": true,
     "title": "Creating Schema Using Struct type, field and DDL"
    }
   },
   "outputs": [],
   "source": [
    "from pyspark.sql.types import StructType,StructField,StringType,IntegerType"
   ]
  },
  {
   "cell_type": "code",
   "execution_count": 0,
   "metadata": {
    "application/vnd.databricks.v1+cell": {
     "cellMetadata": {
      "byteLimit": 2048000,
      "rowLimit": 10000
     },
     "inputWidgets": {},
     "nuid": "e97df1bc-fd8f-4a8d-8b6a-8f7bbe4ffe99",
     "showTitle": false,
     "title": ""
    }
   },
   "outputs": [],
   "source": [
    "my_schema= StructType(\n",
    "    [\n",
    "        StructField(\"Dest_country\",StringType(),True),\n",
    "        StructField(\"Orgin_country\",StringType(),True),\n",
    "        StructField(\"cnt\",IntegerType(),True)\n",
    "    ]\n",
    ")"
   ]
  },
  {
   "cell_type": "code",
   "execution_count": 0,
   "metadata": {
    "application/vnd.databricks.v1+cell": {
     "cellMetadata": {
      "byteLimit": 2048000,
      "rowLimit": 10000
     },
     "inputWidgets": {},
     "nuid": "bf833c0f-6bc5-4e76-b724-9c82e361f4a2",
     "showTitle": false,
     "title": ""
    }
   },
   "outputs": [],
   "source": [
    "flight_df_My_schema=spark.read.format(\"csv\")\\\n",
    "          .option(\"header\",\"False\")\\\n",
    "              .option(\"inferschema\",\"False\")\\\n",
    "                  .schema(my_schema)\\\n",
    "                      .option(\"mode\",\"Permissive\")\\\n",
    "                           .load(\"/FileStore/tables/2010_summary.csv\")\n",
    "\n",
    "                "
   ]
  },
  {
   "cell_type": "code",
   "execution_count": 0,
   "metadata": {
    "application/vnd.databricks.v1+cell": {
     "cellMetadata": {
      "byteLimit": 2048000,
      "rowLimit": 10000
     },
     "inputWidgets": {},
     "nuid": "2ecedb9d-0623-4ebc-af6c-e459ced4e1c6",
     "showTitle": false,
     "title": ""
    }
   },
   "outputs": [
    {
     "output_type": "stream",
     "name": "stdout",
     "output_type": "stream",
     "text": [
      "+-----------------+-------------------+----+\n|     Dest_country|      Orgin_country| cnt|\n+-----------------+-------------------+----+\n|DEST_COUNTRY_NAME|ORIGIN_COUNTRY_NAME|null|\n|    United States|            Romania|   1|\n|    United States|            Ireland| 264|\n|    United States|              India|  69|\n|            Egypt|      United States|  24|\n+-----------------+-------------------+----+\nonly showing top 5 rows\n\n"
     ]
    }
   ],
   "source": [
    "flight_df_My_schema.show(5)"
   ]
  },
  {
   "cell_type": "code",
   "execution_count": 0,
   "metadata": {
    "application/vnd.databricks.v1+cell": {
     "cellMetadata": {
      "byteLimit": 2048000,
      "rowLimit": 10000
     },
     "inputWidgets": {},
     "nuid": "47af622e-3d79-42ea-a34f-96011422c8eb",
     "showTitle": false,
     "title": ""
    }
   },
   "outputs": [
    {
     "output_type": "stream",
     "name": "stdout",
     "output_type": "stream",
     "text": [
      "+-----------------+-------------------+----+\n|     Dest_country|      Orgin_country| cnt|\n+-----------------+-------------------+----+\n|DEST_COUNTRY_NAME|ORIGIN_COUNTRY_NAME|null|\n|    United States|            Romania|   1|\n|    United States|            Ireland| 264|\n|    United States|              India|  69|\n|            Egypt|      United States|  24|\n+-----------------+-------------------+----+\nonly showing top 5 rows\n\n"
     ]
    }
   ],
   "source": [
    "flight_df_Skiprow=spark.read.format(\"csv\")\\\n",
    "          .option(\"header\",\"False\")\\\n",
    "              .option(\"skiprow\",1)\\\n",
    "                  .option(\"inferschema\",\"False\")\\\n",
    "                      .schema(my_schema)\\\n",
    "                          .option(\"mode\",\"Permissive\")\\\n",
    "                             .load(\"/FileStore/tables/2010_summary.csv\")\n",
    "\n",
    "\n",
    "flight_df_Skiprow.show(5)"
   ]
  },
  {
   "cell_type": "markdown",
   "metadata": {
    "application/vnd.databricks.v1+cell": {
     "cellMetadata": {
      "byteLimit": 2048000,
      "rowLimit": 10000
     },
     "inputWidgets": {},
     "nuid": "68ec36d9-1629-497b-b30f-0e6c4eb0fcca",
     "showTitle": false,
     "title": ""
    }
   },
   "source": [
    "Handling Corrupted Records"
   ]
  },
  {
   "cell_type": "code",
   "execution_count": 0,
   "metadata": {
    "application/vnd.databricks.v1+cell": {
     "cellMetadata": {
      "byteLimit": 2048000,
      "rowLimit": 10000
     },
     "inputWidgets": {},
     "nuid": "66fcc2f1-986b-44eb-b4c9-8394e6f9b647",
     "showTitle": true,
     "title": "Handling Corrupted Records"
    }
   },
   "outputs": [],
   "source": [
    "#premissive mode\n",
    "emp_data=spark.read.format(\"csv\")\\\n",
    "                     .option(\"header\",True)\\\n",
    "                         .option(\"inferschema\",True)\\\n",
    "                             .option(\"mode\",\"Permissive\")\\\n",
    "                                 .load(\"/FileStore/tables/emp.csv\")\n",
    "\n"
   ]
  },
  {
   "cell_type": "code",
   "execution_count": 0,
   "metadata": {
    "application/vnd.databricks.v1+cell": {
     "cellMetadata": {
      "byteLimit": 2048000,
      "rowLimit": 10000
     },
     "inputWidgets": {},
     "nuid": "802999df-a8a5-4906-ae49-297dbe65c73c",
     "showTitle": false,
     "title": ""
    }
   },
   "outputs": [
    {
     "output_type": "stream",
     "name": "stdout",
     "output_type": "stream",
     "text": [
      "+---+--------+---+------+------------+--------+\n| id|    name|age|salary|     address| nominee|\n+---+--------+---+------+------------+--------+\n|  1|  Manish| 26| 75000|       bihar|nominee1|\n|  2|  Nikita| 23|100000|uttarpradesh|nominee2|\n|  3|  Pritam| 22|150000|   Bangalore|   India|\n|  4|Prantosh| 17|200000|     Kolkata|   India|\n|  5|  Vikash| 31|300000|        null|nominee5|\n+---+--------+---+------+------------+--------+\n\n"
     ]
    }
   ],
   "source": [
    "emp_data.show()"
   ]
  },
  {
   "cell_type": "code",
   "execution_count": 0,
   "metadata": {
    "application/vnd.databricks.v1+cell": {
     "cellMetadata": {
      "byteLimit": 2048000,
      "rowLimit": 10000
     },
     "inputWidgets": {},
     "nuid": "1b196a56-a030-43ea-a557-642277114d66",
     "showTitle": false,
     "title": ""
    }
   },
   "outputs": [],
   "source": [
    "#dropmalformed\n",
    "emp_data_1=spark.read.format(\"csv\")\\\n",
    "                     .option(\"header\",True)\\\n",
    "                         .option(\"inferschema\",True)\\\n",
    "                             .option(\"mode\",\"DropmalFormed\")\\\n",
    "                                 .load(\"/FileStore/tables/emp.csv\")"
   ]
  },
  {
   "cell_type": "code",
   "execution_count": 0,
   "metadata": {
    "application/vnd.databricks.v1+cell": {
     "cellMetadata": {
      "byteLimit": 2048000,
      "rowLimit": 10000
     },
     "inputWidgets": {},
     "nuid": "53c1afde-fc27-4e54-9dc3-34f92a38992f",
     "showTitle": false,
     "title": ""
    }
   },
   "outputs": [
    {
     "output_type": "stream",
     "name": "stdout",
     "output_type": "stream",
     "text": [
      "+---+------+---+------+------------+--------+\n| id|  name|age|salary|     address| nominee|\n+---+------+---+------+------------+--------+\n|  1|Manish| 26| 75000|       bihar|nominee1|\n|  2|Nikita| 23|100000|uttarpradesh|nominee2|\n|  5|Vikash| 31|300000|        null|nominee5|\n+---+------+---+------+------------+--------+\n\n"
     ]
    }
   ],
   "source": [
    "emp_data_1.show()"
   ]
  },
  {
   "cell_type": "code",
   "execution_count": 0,
   "metadata": {
    "application/vnd.databricks.v1+cell": {
     "cellMetadata": {
      "byteLimit": 2048000,
      "rowLimit": 10000
     },
     "inputWidgets": {},
     "nuid": "cef9d394-5628-477d-8ba1-469ef84125a8",
     "showTitle": false,
     "title": ""
    }
   },
   "outputs": [],
   "source": [
    "emp_schema= StructType(\n",
    "    [\n",
    "        StructField(\"id\",IntegerType(),True),\n",
    "        StructField(\"name\",StringType(),True),\n",
    "        StructField(\"age\",IntegerType(),True),\n",
    "        StructField(\"salary\",IntegerType(),True),\n",
    "        StructField(\"address\",StringType(),True),\n",
    "        StructField(\"nominee\",StringType(),True),\n",
    "        StructField(\"_corrupted_record\",StringType(),True)\n",
    "    ]\n",
    ")"
   ]
  },
  {
   "cell_type": "code",
   "execution_count": 0,
   "metadata": {
    "application/vnd.databricks.v1+cell": {
     "cellMetadata": {
      "byteLimit": 2048000,
      "rowLimit": 10000
     },
     "inputWidgets": {},
     "nuid": "10353b2b-1b5e-47d2-a4f5-58ad5552b97c",
     "showTitle": false,
     "title": ""
    }
   },
   "outputs": [
    {
     "output_type": "stream",
     "name": "stdout",
     "output_type": "stream",
     "text": [
      "+---+--------+---+------+------------+--------+-----------------+\n|id |name    |age|salary|address     |nominee |_corrupted_record|\n+---+--------+---+------+------------+--------+-----------------+\n|1  |Manish  |26 |75000 |bihar       |nominee1|null             |\n|2  |Nikita  |23 |100000|uttarpradesh|nominee2|null             |\n|3  |Pritam  |22 |150000|Bangalore   |India   |nominee3         |\n|4  |Prantosh|17 |200000|Kolkata     |India   |nominee4         |\n|5  |Vikash  |31 |300000|null        |nominee5|null             |\n+---+--------+---+------+------------+--------+-----------------+\n\n"
     ]
    }
   ],
   "source": [
    "emp_data_corr=spark.read.format(\"csv\")\\\n",
    "                     .option(\"header\",True)\\\n",
    "                         .option(\"inferschema\",True)\\\n",
    "                             .option(\"mode\",\"Permissive\")\\\n",
    "                                 .schema(emp_schema)\\\n",
    "                                 .load(\"/FileStore/tables/emp.csv\")\n",
    "\n",
    "emp_data_corr.show(truncate=False)"
   ]
  },
  {
   "cell_type": "markdown",
   "metadata": {
    "application/vnd.databricks.v1+cell": {
     "cellMetadata": {
      "byteLimit": 2048000,
      "rowLimit": 10000
     },
     "inputWidgets": {},
     "nuid": "139cda1c-55e9-475f-9709-55f0aab9a99c",
     "showTitle": false,
     "title": ""
    }
   },
   "source": [
    "Partition and Bucketing"
   ]
  },
  {
   "cell_type": "code",
   "execution_count": 0,
   "metadata": {
    "application/vnd.databricks.v1+cell": {
     "cellMetadata": {
      "byteLimit": 2048000,
      "rowLimit": 10000
     },
     "inputWidgets": {},
     "nuid": "2b15f57a-7688-4f40-b6d3-1d1e5e0d51d9",
     "showTitle": false,
     "title": ""
    }
   },
   "outputs": [],
   "source": [
    "state_data=spark.read.format(\"csv\")\\\n",
    "                 .option(\"header\", True)\\\n",
    "                   .option(\"inferschema\",True)\\\n",
    "                     .option(\"mode\",\"Permissive\")\\\n",
    "                       .load(\"/FileStore/tables/states_file-2.csv\")"
   ]
  },
  {
   "cell_type": "code",
   "execution_count": 0,
   "metadata": {
    "application/vnd.databricks.v1+cell": {
     "cellMetadata": {
      "byteLimit": 2048000,
      "rowLimit": 10000
     },
     "inputWidgets": {},
     "nuid": "783354dc-c342-4169-9a69-11f52b7bbe1f",
     "showTitle": false,
     "title": ""
    }
   },
   "outputs": [
    {
     "output_type": "stream",
     "name": "stdout",
     "output_type": "stream",
     "text": [
      "+---+--------+---+------+-------+------+\n| id|    name|age|salary|address|gender|\n+---+--------+---+------+-------+------+\n|  1|  Manish| 26| 75000|  INDIA|     m|\n|  2|  Nikita| 23|100000|    USA|     f|\n|  3|  Pritam| 22|150000|  INDIA|     m|\n|  4|Prantosh| 17|200000|  JAPAN|     m|\n|  5|  Vikash| 31|300000|    USA|     m|\n|  6|   Rahul| 55|300000|  INDIA|     m|\n|  7|    Raju| 67|540000|    USA|     m|\n|  8| Praveen| 28| 70000|  JAPAN|     m|\n|  9|     Dev| 32|150000|  JAPAN|     m|\n| 10|  Sherin| 16| 25000| RUSSIA|     f|\n| 11|    Ragu| 12| 35000|  INDIA|     f|\n| 12|   Sweta| 43|200000|  INDIA|     f|\n| 13| Raushan| 48|650000|    USA|     m|\n| 14|  Mukesh| 36| 95000| RUSSIA|     m|\n| 15| Prakash| 52|750000|  INDIA|     m|\n+---+--------+---+------+-------+------+\n\n"
     ]
    }
   ],
   "source": [
    "state_data.show()"
   ]
  },
  {
   "cell_type": "markdown",
   "metadata": {
    "application/vnd.databricks.v1+cell": {
     "cellMetadata": {},
     "inputWidgets": {},
     "nuid": "197361a7-6817-415a-a631-795ff479fead",
     "showTitle": false,
     "title": ""
    }
   },
   "source": [
    "partitionBy"
   ]
  },
  {
   "cell_type": "code",
   "execution_count": 0,
   "metadata": {
    "application/vnd.databricks.v1+cell": {
     "cellMetadata": {
      "byteLimit": 2048000,
      "rowLimit": 10000
     },
     "inputWidgets": {},
     "nuid": "acdf286a-2b1c-4604-b968-cd7a61f8a130",
     "showTitle": false,
     "title": ""
    }
   },
   "outputs": [],
   "source": [
    "state_data.write.format(\"csv\")\\\n",
    "        .option(\"header\",True)\\\n",
    "            .option(\"mode\",\"overwrite\")\\\n",
    "                .option(\"path\",\"/FileStore/tables/partion_by_address\")\\\n",
    "                    .partitionBy(\"address\")\\\n",
    "                       .save()"
   ]
  },
  {
   "cell_type": "code",
   "execution_count": 0,
   "metadata": {
    "application/vnd.databricks.v1+cell": {
     "cellMetadata": {
      "byteLimit": 2048000,
      "rowLimit": 10000
     },
     "inputWidgets": {},
     "nuid": "cd4dec3c-304b-4e28-b008-12be2f0005d0",
     "showTitle": false,
     "title": ""
    }
   },
   "outputs": [
    {
     "output_type": "stream",
     "name": "stdout",
     "output_type": "stream",
     "text": [
      "Out[28]: [FileInfo(path='dbfs:/FileStore/tables/partion_by_address/_SUCCESS', name='_SUCCESS', size=0, modificationTime=1717313526000),\n FileInfo(path='dbfs:/FileStore/tables/partion_by_address/address=INDIA/', name='address=INDIA/', size=0, modificationTime=0),\n FileInfo(path='dbfs:/FileStore/tables/partion_by_address/address=JAPAN/', name='address=JAPAN/', size=0, modificationTime=0),\n FileInfo(path='dbfs:/FileStore/tables/partion_by_address/address=RUSSIA/', name='address=RUSSIA/', size=0, modificationTime=0),\n FileInfo(path='dbfs:/FileStore/tables/partion_by_address/address=USA/', name='address=USA/', size=0, modificationTime=0)]"
     ]
    }
   ],
   "source": [
    "dbutils.fs.ls(\"/FileStore/tables/partion_by_address/\",)"
   ]
  },
  {
   "cell_type": "markdown",
   "metadata": {
    "application/vnd.databricks.v1+cell": {
     "cellMetadata": {},
     "inputWidgets": {},
     "nuid": "fc769a08-48bf-4cad-a875-7fff11d4c2bd",
     "showTitle": false,
     "title": ""
    }
   },
   "source": [
    "bucketBy"
   ]
  },
  {
   "cell_type": "code",
   "execution_count": 0,
   "metadata": {
    "application/vnd.databricks.v1+cell": {
     "cellMetadata": {
      "byteLimit": 2048000,
      "rowLimit": 10000
     },
     "inputWidgets": {},
     "nuid": "2ffa6326-2913-4fbd-b3be-cc69fe1a1642",
     "showTitle": false,
     "title": ""
    }
   },
   "outputs": [],
   "source": [
    "state_data.write.format(\"csv\")\\\n",
    "        .option(\"header\",True)\\\n",
    "            .option(\"mode\",\"overwrite\")\\\n",
    "                .option(\"path\",\"/FileStore/tables/Bucket_by_address\")\\\n",
    "                    .bucketBy(3,\"id\")\\\n",
    "                       .saveAsTable(\"Bucket_state\")"
   ]
  },
  {
   "cell_type": "code",
   "execution_count": 0,
   "metadata": {
    "application/vnd.databricks.v1+cell": {
     "cellMetadata": {
      "byteLimit": 2048000,
      "rowLimit": 10000
     },
     "inputWidgets": {},
     "nuid": "01ba7fed-4cbf-434b-b707-3ff1e7bfb4ee",
     "showTitle": false,
     "title": ""
    }
   },
   "outputs": [
    {
     "output_type": "stream",
     "name": "stdout",
     "output_type": "stream",
     "text": [
      "Out[31]: [FileInfo(path='dbfs:/FileStore/tables/Bucket_by_address/_SUCCESS', name='_SUCCESS', size=0, modificationTime=1717314038000),\n FileInfo(path='dbfs:/FileStore/tables/Bucket_by_address/_committed_1846091711879996821', name='_committed_1846091711879996821', size=306, modificationTime=1717314038000),\n FileInfo(path='dbfs:/FileStore/tables/Bucket_by_address/_started_1846091711879996821', name='_started_1846091711879996821', size=0, modificationTime=1717314038000),\n FileInfo(path='dbfs:/FileStore/tables/Bucket_by_address/part-00000-tid-1846091711879996821-6cad12bd-6e26-4896-9930-71686bcd738b-20-1_00000.c000.csv', name='part-00000-tid-1846091711879996821-6cad12bd-6e26-4896-9930-71686bcd738b-20-1_00000.c000.csv', size=270, modificationTime=1717314038000),\n FileInfo(path='dbfs:/FileStore/tables/Bucket_by_address/part-00000-tid-1846091711879996821-6cad12bd-6e26-4896-9930-71686bcd738b-20-2_00001.c000.csv', name='part-00000-tid-1846091711879996821-6cad12bd-6e26-4896-9930-71686bcd738b-20-2_00001.c000.csv', size=113, modificationTime=1717314038000),\n FileInfo(path='dbfs:/FileStore/tables/Bucket_by_address/part-00000-tid-1846091711879996821-6cad12bd-6e26-4896-9930-71686bcd738b-20-3_00002.c000.csv', name='part-00000-tid-1846091711879996821-6cad12bd-6e26-4896-9930-71686bcd738b-20-3_00002.c000.csv', size=115, modificationTime=1717314038000)]"
     ]
    }
   ],
   "source": [
    "dbutils.fs.ls(\"/FileStore/tables/Bucket_by_address/\")"
   ]
  },
  {
   "cell_type": "markdown",
   "metadata": {
    "application/vnd.databricks.v1+cell": {
     "cellMetadata": {},
     "inputWidgets": {},
     "nuid": "1d5ee88e-1a2b-4255-ba93-30b6f33cfda4",
     "showTitle": false,
     "title": ""
    }
   },
   "source": [
    "DataFrame Transformations"
   ]
  },
  {
   "cell_type": "code",
   "execution_count": 0,
   "metadata": {
    "application/vnd.databricks.v1+cell": {
     "cellMetadata": {
      "byteLimit": 2048000,
      "rowLimit": 10000
     },
     "inputWidgets": {},
     "nuid": "56d68404-5f1e-49bd-9af5-4686c271d4ef",
     "showTitle": false,
     "title": ""
    }
   },
   "outputs": [],
   "source": [
    "from pyspark.sql.functions import *\n",
    "from pyspark.sql.types import *"
   ]
  },
  {
   "cell_type": "code",
   "execution_count": 0,
   "metadata": {
    "application/vnd.databricks.v1+cell": {
     "cellMetadata": {
      "byteLimit": 2048000,
      "rowLimit": 10000
     },
     "inputWidgets": {},
     "nuid": "b8b65fac-efa3-447f-82ab-7d38b484e98b",
     "showTitle": false,
     "title": ""
    }
   },
   "outputs": [
    {
     "output_type": "stream",
     "name": "stdout",
     "output_type": "stream",
     "text": [
      "+--------+\n|    name|\n+--------+\n|  Manish|\n|  Nikita|\n|  Pritam|\n|Prantosh|\n|  Vikash|\n+--------+\n\n"
     ]
    }
   ],
   "source": [
    "#emp_data.select(\"name\").show()\n",
    "emp_data.select(col(\"name\")).show()"
   ]
  },
  {
   "cell_type": "code",
   "execution_count": 0,
   "metadata": {
    "application/vnd.databricks.v1+cell": {
     "cellMetadata": {
      "byteLimit": 2048000,
      "rowLimit": 10000
     },
     "inputWidgets": {},
     "nuid": "9bc29097-e503-48f6-9a04-6b2dd33ff30b",
     "showTitle": false,
     "title": ""
    }
   },
   "outputs": [
    {
     "output_type": "stream",
     "name": "stdout",
     "output_type": "stream",
     "text": [
      "+---+--------+------+\n| id|    name|salary|\n+---+--------+------+\n|  1|  Manish| 75000|\n|  2|  Nikita|100000|\n|  3|  Pritam|150000|\n|  4|Prantosh|200000|\n|  5|  Vikash|300000|\n+---+--------+------+\n\n"
     ]
    }
   ],
   "source": [
    "emp_data.select(\"id\",\"name\",\"salary\").show()"
   ]
  },
  {
   "cell_type": "markdown",
   "metadata": {
    "application/vnd.databricks.v1+cell": {
     "cellMetadata": {},
     "inputWidgets": {},
     "nuid": "ff77af7f-3900-4835-b7b1-ce4c82d3020a",
     "showTitle": false,
     "title": ""
    }
   },
   "source": [
    "Spark SQL"
   ]
  },
  {
   "cell_type": "code",
   "execution_count": 0,
   "metadata": {
    "application/vnd.databricks.v1+cell": {
     "cellMetadata": {
      "byteLimit": 2048000,
      "rowLimit": 10000
     },
     "inputWidgets": {},
     "nuid": "3290c1a0-33d5-43a5-a08c-3d54760d1c8d",
     "showTitle": false,
     "title": ""
    }
   },
   "outputs": [
    {
     "output_type": "stream",
     "name": "stdout",
     "output_type": "stream",
     "text": [
      "+---+--------+---+------+------------+--------+\n| id|    name|age|salary|     address| nominee|\n+---+--------+---+------+------------+--------+\n|  1|  Manish| 26| 75000|       bihar|nominee1|\n|  2|  Nikita| 23|100000|uttarpradesh|nominee2|\n|  3|  Pritam| 22|150000|   Bangalore|   India|\n|  4|Prantosh| 17|200000|     Kolkata|   India|\n|  5|  Vikash| 31|300000|        null|nominee5|\n+---+--------+---+------+------------+--------+\n\n"
     ]
    }
   ],
   "source": [
    " emp_data.createOrReplaceTempView(\"emp_table\")\n",
    " spark.sql(\"\"\"select * from emp_table\"\"\").show()"
   ]
  },
  {
   "cell_type": "markdown",
   "metadata": {
    "application/vnd.databricks.v1+cell": {
     "cellMetadata": {},
     "inputWidgets": {},
     "nuid": "33662fad-b295-4a81-9fb2-cdd771a29609",
     "showTitle": false,
     "title": ""
    }
   },
   "source": [
    "Alisaing the column"
   ]
  },
  {
   "cell_type": "code",
   "execution_count": 0,
   "metadata": {
    "application/vnd.databricks.v1+cell": {
     "cellMetadata": {
      "byteLimit": 2048000,
      "rowLimit": 10000
     },
     "inputWidgets": {},
     "nuid": "ae5e725b-54b5-4b33-a58b-146d1282aded",
     "showTitle": false,
     "title": ""
    }
   },
   "outputs": [
    {
     "output_type": "stream",
     "name": "stdout",
     "output_type": "stream",
     "text": [
      "+-----+--------+---+\n|empid|    name|age|\n+-----+--------+---+\n|    1|  Manish| 26|\n|    2|  Nikita| 23|\n|    3|  Pritam| 22|\n|    4|Prantosh| 17|\n|    5|  Vikash| 31|\n+-----+--------+---+\n\n"
     ]
    }
   ],
   "source": [
    "emp_data.select(col(\"id\").alias(\"empid\"),\"name\",\"age\").show()"
   ]
  },
  {
   "cell_type": "markdown",
   "metadata": {
    "application/vnd.databricks.v1+cell": {
     "cellMetadata": {},
     "inputWidgets": {},
     "nuid": "348ecf8f-33b0-4f04-865e-65f104886c77",
     "showTitle": false,
     "title": ""
    }
   },
   "source": [
    "Where and Filter Transformation"
   ]
  },
  {
   "cell_type": "code",
   "execution_count": 0,
   "metadata": {
    "application/vnd.databricks.v1+cell": {
     "cellMetadata": {
      "byteLimit": 2048000,
      "rowLimit": 10000
     },
     "inputWidgets": {},
     "nuid": "afc54a18-d4e2-446d-a9b3-ee28a1aba883",
     "showTitle": false,
     "title": ""
    }
   },
   "outputs": [
    {
     "output_type": "stream",
     "name": "stdout",
     "output_type": "stream",
     "text": [
      "+---+--------+---+------+-------+--------+\n| id|    name|age|salary|address| nominee|\n+---+--------+---+------+-------+--------+\n|  4|Prantosh| 17|200000|Kolkata|   India|\n|  5|  Vikash| 31|300000|   null|nominee5|\n+---+--------+---+------+-------+--------+\n\n"
     ]
    }
   ],
   "source": [
    "emp_data.filter(col(\"salary\")>150000).show()"
   ]
  },
  {
   "cell_type": "code",
   "execution_count": 0,
   "metadata": {
    "application/vnd.databricks.v1+cell": {
     "cellMetadata": {
      "byteLimit": 2048000,
      "rowLimit": 10000
     },
     "inputWidgets": {},
     "nuid": "48a0b8ae-5ee1-4826-9f0f-f7982d76935a",
     "showTitle": false,
     "title": ""
    }
   },
   "outputs": [
    {
     "output_type": "stream",
     "name": "stdout",
     "output_type": "stream",
     "text": [
      "+---+--------+---+------+-------+--------+\n| id|    name|age|salary|address| nominee|\n+---+--------+---+------+-------+--------+\n|  4|Prantosh| 17|200000|Kolkata|   India|\n|  5|  Vikash| 31|300000|   null|nominee5|\n+---+--------+---+------+-------+--------+\n\n"
     ]
    }
   ],
   "source": [
    "emp_data.where(col(\"salary\")>150000).show()"
   ]
  },
  {
   "cell_type": "code",
   "execution_count": 0,
   "metadata": {
    "application/vnd.databricks.v1+cell": {
     "cellMetadata": {
      "byteLimit": 2048000,
      "rowLimit": 10000
     },
     "inputWidgets": {},
     "nuid": "6809b5c6-f1bb-41f0-8f87-d3228a1792f2",
     "showTitle": false,
     "title": ""
    }
   },
   "outputs": [
    {
     "output_type": "stream",
     "name": "stdout",
     "output_type": "stream",
     "text": [
      "+---+--------+---+------+-------+-------+\n| id|    name|age|salary|address|nominee|\n+---+--------+---+------+-------+-------+\n|  4|Prantosh| 17|200000|Kolkata|  India|\n+---+--------+---+------+-------+-------+\n\n"
     ]
    }
   ],
   "source": [
    "emp_data.filter((col(\"salary\")>150000) & (col(\"age\")<18) ).show()"
   ]
  },
  {
   "cell_type": "markdown",
   "metadata": {
    "application/vnd.databricks.v1+cell": {
     "cellMetadata": {},
     "inputWidgets": {},
     "nuid": "ba5f2318-f61a-44da-bfdd-7b53e6a9f7d4",
     "showTitle": false,
     "title": ""
    }
   },
   "source": [
    "Literals"
   ]
  },
  {
   "cell_type": "code",
   "execution_count": 0,
   "metadata": {
    "application/vnd.databricks.v1+cell": {
     "cellMetadata": {
      "byteLimit": 2048000,
      "rowLimit": 10000
     },
     "inputWidgets": {},
     "nuid": "e4c5d507-e661-4384-8bf5-9c285bfc7462",
     "showTitle": false,
     "title": ""
    }
   },
   "outputs": [
    {
     "output_type": "stream",
     "name": "stdout",
     "output_type": "stream",
     "text": [
      "+---+--------+---+------+------------+--------+---------+\n| id|    name|age|salary|     address| nominee|last_name|\n+---+--------+---+------+------------+--------+---------+\n|  1|  Manish| 26| 75000|       bihar|nominee1|    Kumar|\n|  2|  Nikita| 23|100000|uttarpradesh|nominee2|    Kumar|\n|  3|  Pritam| 22|150000|   Bangalore|   India|    Kumar|\n|  4|Prantosh| 17|200000|     Kolkata|   India|    Kumar|\n|  5|  Vikash| 31|300000|        null|nominee5|    Kumar|\n+---+--------+---+------+------------+--------+---------+\n\n"
     ]
    }
   ],
   "source": [
    " emp_data.select(\"*\",lit(\"Kumar\").alias(\"last_name\")).show()"
   ]
  },
  {
   "cell_type": "markdown",
   "metadata": {
    "application/vnd.databricks.v1+cell": {
     "cellMetadata": {},
     "inputWidgets": {},
     "nuid": "dcb968ac-3bcf-4712-9f69-010ccd44e669",
     "showTitle": false,
     "title": ""
    }
   },
   "source": [
    "withColumn transformations"
   ]
  },
  {
   "cell_type": "code",
   "execution_count": 0,
   "metadata": {
    "application/vnd.databricks.v1+cell": {
     "cellMetadata": {
      "byteLimit": 2048000,
      "rowLimit": 10000
     },
     "inputWidgets": {},
     "nuid": "2df98f73-7e48-4953-b4a0-4dfec8b250ae",
     "showTitle": false,
     "title": ""
    }
   },
   "outputs": [
    {
     "output_type": "stream",
     "name": "stdout",
     "output_type": "stream",
     "text": [
      "+---+--------+---+------+------------+--------+--------+\n| id|    name|age|salary|     address| nominee|sur_name|\n+---+--------+---+------+------------+--------+--------+\n|  1|  Manish| 26| 75000|       bihar|nominee1|   singh|\n|  2|  Nikita| 23|100000|uttarpradesh|nominee2|   singh|\n|  3|  Pritam| 22|150000|   Bangalore|   India|   singh|\n|  4|Prantosh| 17|200000|     Kolkata|   India|   singh|\n|  5|  Vikash| 31|300000|        null|nominee5|   singh|\n+---+--------+---+------+------------+--------+--------+\n\n"
     ]
    }
   ],
   "source": [
    "emp_data.withColumn(\"sur_name\",lit(\"singh\")).show()"
   ]
  },
  {
   "cell_type": "markdown",
   "metadata": {
    "application/vnd.databricks.v1+cell": {
     "cellMetadata": {},
     "inputWidgets": {},
     "nuid": "4c38a452-2050-450f-8904-28a296cea356",
     "showTitle": false,
     "title": ""
    }
   },
   "source": [
    "withColumnRemane transformations"
   ]
  },
  {
   "cell_type": "code",
   "execution_count": 0,
   "metadata": {
    "application/vnd.databricks.v1+cell": {
     "cellMetadata": {
      "byteLimit": 2048000,
      "rowLimit": 10000
     },
     "inputWidgets": {},
     "nuid": "cb45cec0-7dc2-4e51-8cb6-48dc6cbcf35d",
     "showTitle": false,
     "title": ""
    }
   },
   "outputs": [
    {
     "output_type": "stream",
     "name": "stdout",
     "output_type": "stream",
     "text": [
      "+-----------+--------+---+------+------------+--------+\n|employee_id|    name|age|salary|     address| nominee|\n+-----------+--------+---+------+------------+--------+\n|          1|  Manish| 26| 75000|       bihar|nominee1|\n|          2|  Nikita| 23|100000|uttarpradesh|nominee2|\n|          3|  Pritam| 22|150000|   Bangalore|   India|\n|          4|Prantosh| 17|200000|     Kolkata|   India|\n|          5|  Vikash| 31|300000|        null|nominee5|\n+-----------+--------+---+------+------------+--------+\n\n"
     ]
    }
   ],
   "source": [
    "new_emp_data=emp_data.withColumnRenamed(\"id\",\"employee_id\")\n",
    "new_emp_data.show()"
   ]
  },
  {
   "cell_type": "markdown",
   "metadata": {
    "application/vnd.databricks.v1+cell": {
     "cellMetadata": {},
     "inputWidgets": {},
     "nuid": "3fa84da1-30f9-4198-a7a3-15769b64059f",
     "showTitle": false,
     "title": ""
    }
   },
   "source": [
    "Casting Datatype"
   ]
  },
  {
   "cell_type": "code",
   "execution_count": 0,
   "metadata": {
    "application/vnd.databricks.v1+cell": {
     "cellMetadata": {
      "byteLimit": 2048000,
      "rowLimit": 10000
     },
     "inputWidgets": {},
     "nuid": "e5b0e9ef-109f-48fa-b3e0-f0f2eb7f253f",
     "showTitle": false,
     "title": ""
    }
   },
   "outputs": [
    {
     "output_type": "stream",
     "name": "stdout",
     "output_type": "stream",
     "text": [
      "root\n |-- employee_id: integer (nullable = true)\n |-- name: string (nullable = true)\n |-- age: integer (nullable = true)\n |-- salary: integer (nullable = true)\n |-- address: string (nullable = true)\n |-- nominee: string (nullable = true)\n\n"
     ]
    }
   ],
   "source": [
    "new_emp_data.printSchema()"
   ]
  },
  {
   "cell_type": "code",
   "execution_count": 0,
   "metadata": {
    "application/vnd.databricks.v1+cell": {
     "cellMetadata": {
      "byteLimit": 2048000,
      "rowLimit": 10000
     },
     "inputWidgets": {},
     "nuid": "ea5da13d-ca09-4599-b9a1-9a05838bdb6f",
     "showTitle": false,
     "title": ""
    }
   },
   "outputs": [
    {
     "output_type": "stream",
     "name": "stdout",
     "output_type": "stream",
     "text": [
      "root\n |-- employee_id: string (nullable = true)\n |-- name: string (nullable = true)\n |-- age: integer (nullable = true)\n |-- salary: long (nullable = true)\n |-- address: string (nullable = true)\n |-- nominee: string (nullable = true)\n\n"
     ]
    }
   ],
   "source": [
    "new_emp_data.withColumn(\"employee_id\",col(\"employee_id\").cast(\"string\"))\\\n",
    "             .withColumn(\"salary\",col(\"salary\").cast(\"long\"))\\\n",
    "                 .printSchema()"
   ]
  },
  {
   "cell_type": "markdown",
   "metadata": {
    "application/vnd.databricks.v1+cell": {
     "cellMetadata": {},
     "inputWidgets": {},
     "nuid": "b8763d4e-2b43-4650-8dac-f1767e0e7c08",
     "showTitle": false,
     "title": ""
    }
   },
   "source": [
    "Removing Column "
   ]
  },
  {
   "cell_type": "code",
   "execution_count": 0,
   "metadata": {
    "application/vnd.databricks.v1+cell": {
     "cellMetadata": {
      "byteLimit": 2048000,
      "rowLimit": 10000
     },
     "inputWidgets": {},
     "nuid": "c6e5641c-df59-4318-956b-ba937531bcf9",
     "showTitle": false,
     "title": ""
    }
   },
   "outputs": [
    {
     "output_type": "stream",
     "name": "stdout",
     "output_type": "stream",
     "text": [
      "+--------+---+------+------------+--------+\n|    name|age|salary|     address| nominee|\n+--------+---+------+------------+--------+\n|  Manish| 26| 75000|       bihar|nominee1|\n|  Nikita| 23|100000|uttarpradesh|nominee2|\n|  Pritam| 22|150000|   Bangalore|   India|\n|Prantosh| 17|200000|     Kolkata|   India|\n|  Vikash| 31|300000|        null|nominee5|\n+--------+---+------+------------+--------+\n\n"
     ]
    }
   ],
   "source": [
    "new_emp_data.drop(\"employee_id\",col(\"employee_id\")).show()"
   ]
  },
  {
   "cell_type": "markdown",
   "metadata": {
    "application/vnd.databricks.v1+cell": {
     "cellMetadata": {},
     "inputWidgets": {},
     "nuid": "47d59ee8-ebb0-4ea4-add3-d05a5bdc0455",
     "showTitle": false,
     "title": ""
    }
   },
   "source": [
    "Union and UnionAll"
   ]
  },
  {
   "cell_type": "code",
   "execution_count": 0,
   "metadata": {
    "application/vnd.databricks.v1+cell": {
     "cellMetadata": {
      "byteLimit": 2048000,
      "rowLimit": 10000
     },
     "inputWidgets": {},
     "nuid": "4c5f919f-ee73-4ffe-9324-eec6cbeb68ab",
     "showTitle": false,
     "title": ""
    }
   },
   "outputs": [],
   "source": [
    "data=[(10 ,'Anil',50000, 18),\n",
    "(11 ,'Vikas',75000,  16),\n",
    "(12 ,'Nisha',40000,  18),\n",
    "(13 ,'Nidhi',60000,  17),\n",
    "(14 ,'Priya',80000,  18),\n",
    "(15 ,'Mohit',45000,  18),\n",
    "(16 ,'Rajesh',90000, 10),\n",
    "(17 ,'Raman',55000, 16),\n",
    "(18 ,'Sam',65000,   17)]"
   ]
  },
  {
   "cell_type": "code",
   "execution_count": 0,
   "metadata": {
    "application/vnd.databricks.v1+cell": {
     "cellMetadata": {
      "byteLimit": 2048000,
      "rowLimit": 10000
     },
     "inputWidgets": {},
     "nuid": "3a81cd32-012b-4efc-b327-60917e3d56e2",
     "showTitle": false,
     "title": ""
    }
   },
   "outputs": [],
   "source": [
    "schema=[\"id\",\"name\",\"sal\",\"mgr_id\"]\n",
    "manager_df=spark.createDataFrame(data=data,schema=schema)"
   ]
  },
  {
   "cell_type": "code",
   "execution_count": 0,
   "metadata": {
    "application/vnd.databricks.v1+cell": {
     "cellMetadata": {
      "byteLimit": 2048000,
      "rowLimit": 10000
     },
     "inputWidgets": {},
     "nuid": "32154cda-cf79-402a-9fdf-e1e0d081e1e3",
     "showTitle": false,
     "title": ""
    }
   },
   "outputs": [
    {
     "output_type": "stream",
     "name": "stdout",
     "output_type": "stream",
     "text": [
      "+---+------+-----+------+\n| id|  name|  sal|mgr_id|\n+---+------+-----+------+\n| 10|  Anil|50000|    18|\n| 11| Vikas|75000|    16|\n| 12| Nisha|40000|    18|\n| 13| Nidhi|60000|    17|\n| 14| Priya|80000|    18|\n| 15| Mohit|45000|    18|\n| 16|Rajesh|90000|    10|\n| 17| Raman|55000|    16|\n| 18|   Sam|65000|    17|\n+---+------+-----+------+\n\n"
     ]
    }
   ],
   "source": [
    "manager_df.show()"
   ]
  },
  {
   "cell_type": "code",
   "execution_count": 0,
   "metadata": {
    "application/vnd.databricks.v1+cell": {
     "cellMetadata": {
      "byteLimit": 2048000,
      "rowLimit": 10000
     },
     "inputWidgets": {},
     "nuid": "b15e5848-2eb1-4336-a455-85a8bc163e48",
     "showTitle": false,
     "title": ""
    }
   },
   "outputs": [
    {
     "output_type": "stream",
     "name": "stdout",
     "output_type": "stream",
     "text": [
      "Out[24]: 9"
     ]
    }
   ],
   "source": [
    "manager_df.count()"
   ]
  },
  {
   "cell_type": "code",
   "execution_count": 0,
   "metadata": {
    "application/vnd.databricks.v1+cell": {
     "cellMetadata": {
      "byteLimit": 2048000,
      "rowLimit": 10000
     },
     "inputWidgets": {},
     "nuid": "6257823f-8683-4753-ace4-7bf67c48ca76",
     "showTitle": false,
     "title": ""
    }
   },
   "outputs": [],
   "source": [
    "data1=[(19 ,'Sohan',50000, 18),\n",
    "(20 ,'Sima',75000,  17)]\n",
    "manager_df1=spark.createDataFrame(data=data1,schema=schema)"
   ]
  },
  {
   "cell_type": "code",
   "execution_count": 0,
   "metadata": {
    "application/vnd.databricks.v1+cell": {
     "cellMetadata": {
      "byteLimit": 2048000,
      "rowLimit": 10000
     },
     "inputWidgets": {},
     "nuid": "721a2690-94c3-4b2f-9578-d2307c2c7fa9",
     "showTitle": false,
     "title": ""
    }
   },
   "outputs": [
    {
     "output_type": "stream",
     "name": "stdout",
     "output_type": "stream",
     "text": [
      "+---+------+-----+------+\n| id|  name|  sal|mgr_id|\n+---+------+-----+------+\n| 10|  Anil|50000|    18|\n| 11| Vikas|75000|    16|\n| 12| Nisha|40000|    18|\n| 13| Nidhi|60000|    17|\n| 14| Priya|80000|    18|\n| 15| Mohit|45000|    18|\n| 16|Rajesh|90000|    10|\n| 17| Raman|55000|    16|\n| 18|   Sam|65000|    17|\n| 19| Sohan|50000|    18|\n| 20|  Sima|75000|    17|\n+---+------+-----+------+\n\n+---+------+-----+------+\n| id|  name|  sal|mgr_id|\n+---+------+-----+------+\n| 10|  Anil|50000|    18|\n| 11| Vikas|75000|    16|\n| 12| Nisha|40000|    18|\n| 13| Nidhi|60000|    17|\n| 14| Priya|80000|    18|\n| 15| Mohit|45000|    18|\n| 16|Rajesh|90000|    10|\n| 17| Raman|55000|    16|\n| 18|   Sam|65000|    17|\n| 19| Sohan|50000|    18|\n| 20|  Sima|75000|    17|\n+---+------+-----+------+\n\n"
     ]
    }
   ],
   "source": [
    "manager_df.union(manager_df1).show()\n",
    "manager_df.unionAll(manager_df1).show()"
   ]
  },
  {
   "cell_type": "markdown",
   "metadata": {
    "application/vnd.databricks.v1+cell": {
     "cellMetadata": {},
     "inputWidgets": {},
     "nuid": "9951fb31-c823-4254-a7fa-7ef13b9ea017",
     "showTitle": false,
     "title": ""
    }
   },
   "source": [
    "If-Else in Pysaprk"
   ]
  },
  {
   "cell_type": "code",
   "execution_count": 0,
   "metadata": {
    "application/vnd.databricks.v1+cell": {
     "cellMetadata": {
      "byteLimit": 2048000,
      "rowLimit": 10000
     },
     "inputWidgets": {},
     "nuid": "dc7dcd46-00ed-4b75-8364-3765ca0a5edf",
     "showTitle": false,
     "title": ""
    }
   },
   "outputs": [],
   "source": [
    "emp_data = [\n",
    "(1,'manish',26,20000,'india','IT'),\n",
    "(2,'rahul',None,40000,'germany','engineering'),\n",
    "(3,'pawan',12,60000,'india','sales'),\n",
    "(4,'roshini',44,None,'uk','engineering'),\n",
    "(5,'raushan',35,70000,'india','sales'),\n",
    "(6,None,29,200000,'uk','IT'),\n",
    "(7,'adam',37,65000,'us','IT'),\n",
    "(8,'chris',16,40000,'us','sales'),\n",
    "(None,None,None,None,None,None),\n",
    "(7,'adam',37,65000,'us','IT')\n",
    "]"
   ]
  },
  {
   "cell_type": "code",
   "execution_count": 0,
   "metadata": {
    "application/vnd.databricks.v1+cell": {
     "cellMetadata": {
      "byteLimit": 2048000,
      "rowLimit": 10000
     },
     "inputWidgets": {},
     "nuid": "800e47b9-f900-401a-952c-35fc40b09bbc",
     "showTitle": false,
     "title": ""
    }
   },
   "outputs": [
    {
     "output_type": "display_data",
     "data": {
      "text/plain": [
       "\u001B[0;31m---------------------------------------------------------------------------\u001B[0m\n",
       "\u001B[0;31mNameError\u001B[0m                                 Traceback (most recent call last)\n",
       "File \u001B[0;32m<command-2765228542154176>:2\u001B[0m\n",
       "\u001B[1;32m      1\u001B[0m schema1\u001B[38;5;241m=\u001B[39m[\u001B[38;5;124m\"\u001B[39m\u001B[38;5;124mid\u001B[39m\u001B[38;5;124m\"\u001B[39m,\u001B[38;5;124m\"\u001B[39m\u001B[38;5;124mname\u001B[39m\u001B[38;5;124m\"\u001B[39m,\u001B[38;5;124m\"\u001B[39m\u001B[38;5;124mage\u001B[39m\u001B[38;5;124m\"\u001B[39m,\u001B[38;5;124m\"\u001B[39m\u001B[38;5;124msalary\u001B[39m\u001B[38;5;124m\"\u001B[39m,\u001B[38;5;124m\"\u001B[39m\u001B[38;5;124mcountry\u001B[39m\u001B[38;5;124m\"\u001B[39m,\u001B[38;5;124m\"\u001B[39m\u001B[38;5;124mdept\u001B[39m\u001B[38;5;124m\"\u001B[39m]\n",
       "\u001B[0;32m----> 2\u001B[0m employee_df\u001B[38;5;241m=\u001B[39mspark\u001B[38;5;241m.\u001B[39mcreateDataFrame(data\u001B[38;5;241m=\u001B[39memp_data,schema\u001B[38;5;241m=\u001B[39mschema1)\n",
       "\n",
       "\u001B[0;31mNameError\u001B[0m: name 'emp_data' is not defined"
      ]
     },
     "metadata": {
      "application/vnd.databricks.v1+output": {
       "arguments": {},
       "data": "\u001B[0;31m---------------------------------------------------------------------------\u001B[0m\n\u001B[0;31mNameError\u001B[0m                                 Traceback (most recent call last)\nFile \u001B[0;32m<command-2765228542154176>:2\u001B[0m\n\u001B[1;32m      1\u001B[0m schema1\u001B[38;5;241m=\u001B[39m[\u001B[38;5;124m\"\u001B[39m\u001B[38;5;124mid\u001B[39m\u001B[38;5;124m\"\u001B[39m,\u001B[38;5;124m\"\u001B[39m\u001B[38;5;124mname\u001B[39m\u001B[38;5;124m\"\u001B[39m,\u001B[38;5;124m\"\u001B[39m\u001B[38;5;124mage\u001B[39m\u001B[38;5;124m\"\u001B[39m,\u001B[38;5;124m\"\u001B[39m\u001B[38;5;124msalary\u001B[39m\u001B[38;5;124m\"\u001B[39m,\u001B[38;5;124m\"\u001B[39m\u001B[38;5;124mcountry\u001B[39m\u001B[38;5;124m\"\u001B[39m,\u001B[38;5;124m\"\u001B[39m\u001B[38;5;124mdept\u001B[39m\u001B[38;5;124m\"\u001B[39m]\n\u001B[0;32m----> 2\u001B[0m employee_df\u001B[38;5;241m=\u001B[39mspark\u001B[38;5;241m.\u001B[39mcreateDataFrame(data\u001B[38;5;241m=\u001B[39memp_data,schema\u001B[38;5;241m=\u001B[39mschema1)\n\n\u001B[0;31mNameError\u001B[0m: name 'emp_data' is not defined",
       "errorSummary": "<span class='ansi-red-fg'>NameError</span>: name 'emp_data' is not defined",
       "errorTraceType": "ansi",
       "metadata": {},
       "type": "ipynbError"
      }
     },
     "output_type": "display_data"
    }
   ],
   "source": [
    "schema1=[\"id\",\"name\",\"age\",\"salary\",\"country\",\"dept\"]\n",
    "employee_df=spark.createDataFrame(data=emp_data,schema=schema1)"
   ]
  },
  {
   "cell_type": "code",
   "execution_count": 0,
   "metadata": {
    "application/vnd.databricks.v1+cell": {
     "cellMetadata": {
      "byteLimit": 2048000,
      "rowLimit": 10000
     },
     "inputWidgets": {},
     "nuid": "92b868e0-aa0e-44b1-8fab-e8d7e08e8bd2",
     "showTitle": false,
     "title": ""
    }
   },
   "outputs": [
    {
     "output_type": "display_data",
     "data": {
      "text/plain": [
       "\u001B[0;31m---------------------------------------------------------------------------\u001B[0m\n",
       "\u001B[0;31mNameError\u001B[0m                                 Traceback (most recent call last)\n",
       "File \u001B[0;32m<command-2765228542154177>:1\u001B[0m\n",
       "\u001B[0;32m----> 1\u001B[0m \u001B[43memployee_df\u001B[49m\u001B[38;5;241m.\u001B[39mshow()\n",
       "\n",
       "\u001B[0;31mNameError\u001B[0m: name 'employee_df' is not defined"
      ]
     },
     "metadata": {
      "application/vnd.databricks.v1+output": {
       "arguments": {},
       "data": "\u001B[0;31m---------------------------------------------------------------------------\u001B[0m\n\u001B[0;31mNameError\u001B[0m                                 Traceback (most recent call last)\nFile \u001B[0;32m<command-2765228542154177>:1\u001B[0m\n\u001B[0;32m----> 1\u001B[0m \u001B[43memployee_df\u001B[49m\u001B[38;5;241m.\u001B[39mshow()\n\n\u001B[0;31mNameError\u001B[0m: name 'employee_df' is not defined",
       "errorSummary": "<span class='ansi-red-fg'>NameError</span>: name 'employee_df' is not defined",
       "errorTraceType": "ansi",
       "metadata": {},
       "type": "ipynbError"
      }
     },
     "output_type": "display_data"
    }
   ],
   "source": [
    "employee_df.show()"
   ]
  },
  {
   "cell_type": "markdown",
   "metadata": {
    "application/vnd.databricks.v1+cell": {
     "cellMetadata": {},
     "inputWidgets": {},
     "nuid": "e8cd6ad8-0584-4e64-b1ca-f01edd1b5bbf",
     "showTitle": false,
     "title": ""
    }
   },
   "source": [
    "When-Then and Otherwise"
   ]
  },
  {
   "cell_type": "code",
   "execution_count": 0,
   "metadata": {
    "application/vnd.databricks.v1+cell": {
     "cellMetadata": {
      "byteLimit": 2048000,
      "rowLimit": 10000
     },
     "inputWidgets": {},
     "nuid": "9c0fbae1-2431-4c90-9ae3-6b67a75016aa",
     "showTitle": false,
     "title": ""
    }
   },
   "outputs": [
    {
     "output_type": "stream",
     "name": "stdout",
     "output_type": "stream",
     "text": [
      "+----+-------+----+------+-------+-----------+-------+\n|  id|   name| age|salary|country|       dept|  adult|\n+----+-------+----+------+-------+-----------+-------+\n|   1| manish|  26| 20000|  india|         IT|    Yes|\n|   2|  rahul|null| 40000|germany|engineering|Novalue|\n|   3|  pawan|  12| 60000|  india|      sales|     No|\n|   4|roshini|  44|  null|     uk|engineering|    Yes|\n|   5|raushan|  35| 70000|  india|      sales|    Yes|\n|   6|   null|  29|200000|     uk|         IT|    Yes|\n|   7|   adam|  37| 65000|     us|         IT|    Yes|\n|   8|  chris|  16| 40000|     us|      sales|     No|\n|null|   null|null|  null|   null|       null|Novalue|\n|   7|   adam|  37| 65000|     us|         IT|    Yes|\n+----+-------+----+------+-------+-----------+-------+\n\n"
     ]
    }
   ],
   "source": [
    "from pyspark.sql.functions import *\n",
    "from pyspark.sql.types import *\n",
    "\n",
    "\n",
    "employee_df.withColumn(\"adult\",when(col(\"age\")<18,\"No\")\n",
    "                               .when(col(\"age\")>18,\"Yes\")\n",
    "                               .otherwise(\"Novalue\")\n",
    "                       ).show()"
   ]
  },
  {
   "cell_type": "code",
   "execution_count": 0,
   "metadata": {
    "application/vnd.databricks.v1+cell": {
     "cellMetadata": {
      "byteLimit": 2048000,
      "rowLimit": 10000
     },
     "inputWidgets": {},
     "nuid": "b60e76ab-2b40-4893-9476-c5aeb16bab53",
     "showTitle": false,
     "title": ""
    }
   },
   "outputs": [
    {
     "output_type": "stream",
     "name": "stdout",
     "output_type": "stream",
     "text": [
      "+----+-------+---+------+-------+-----------+\n|  id|   name|age|salary|country|       dept|\n+----+-------+---+------+-------+-----------+\n|   1| manish| 26| 20000|  india|         IT|\n|   2|  rahul| 19| 40000|germany|engineering|\n|   3|  pawan| 12| 60000|  india|      sales|\n|   4|roshini| 44|  null|     uk|engineering|\n|   5|raushan| 35| 70000|  india|      sales|\n|   6|   null| 29|200000|     uk|         IT|\n|   7|   adam| 37| 65000|     us|         IT|\n|   8|  chris| 16| 40000|     us|      sales|\n|null|   null| 19|  null|   null|       null|\n|   7|   adam| 37| 65000|     us|         IT|\n+----+-------+---+------+-------+-----------+\n\n"
     ]
    }
   ],
   "source": [
    " update_employee_df=employee_df.withColumn(\"age\",when(col(\"age\").isNull(),lit(19))\n",
    "                        .otherwise(col(\"age\")))\n",
    " update_employee_df.show()"
   ]
  },
  {
   "cell_type": "code",
   "execution_count": 0,
   "metadata": {
    "application/vnd.databricks.v1+cell": {
     "cellMetadata": {
      "byteLimit": 2048000,
      "rowLimit": 10000
     },
     "inputWidgets": {},
     "nuid": "4a22fa3b-a494-423b-bf8f-276446651dba",
     "showTitle": false,
     "title": ""
    }
   },
   "outputs": [
    {
     "output_type": "stream",
     "name": "stdout",
     "output_type": "stream",
     "text": [
      "+----+-------+---+------+-------+-----------+--------+\n|  id|   name|age|salary|country|       dept|age_wise|\n+----+-------+---+------+-------+-----------+--------+\n|   1| manish| 26| 20000|  india|         IT|   adult|\n|   2|  rahul| 19| 40000|germany|engineering|   adult|\n|   3|  pawan| 12| 60000|  india|      sales|   minor|\n|   4|roshini| 44|  null|     uk|engineering|   adult|\n|   5|raushan| 35| 70000|  india|      sales|   adult|\n|   6|   null| 29|200000|     uk|         IT|   adult|\n|   7|   adam| 37| 65000|     us|         IT|   adult|\n|   8|  chris| 16| 40000|     us|      sales|   minor|\n|null|   null| 19|  null|   null|       null|   adult|\n|   7|   adam| 37| 65000|     us|         IT|   adult|\n+----+-------+---+------+-------+-----------+--------+\n\n"
     ]
    }
   ],
   "source": [
    "update_employee_df.withColumn(\"age_wise\",when((col(\"age\")>0) & (col(\"age\")<18), \"minor\")\n",
    "                                    .when(col(\"age\")>18 , \"adult\")\n",
    "                              \n",
    "                              ).show()"
   ]
  },
  {
   "cell_type": "markdown",
   "metadata": {
    "application/vnd.databricks.v1+cell": {
     "cellMetadata": {},
     "inputWidgets": {},
     "nuid": "18514f4a-8588-45a8-9e11-dac6120ea620",
     "showTitle": false,
     "title": ""
    }
   },
   "source": [
    "Unique and Sort the Record"
   ]
  },
  {
   "cell_type": "code",
   "execution_count": 0,
   "metadata": {
    "application/vnd.databricks.v1+cell": {
     "cellMetadata": {
      "byteLimit": 2048000,
      "rowLimit": 10000
     },
     "inputWidgets": {},
     "nuid": "f4adc22b-9a00-4948-9a85-7193da6a6df5",
     "showTitle": false,
     "title": ""
    }
   },
   "outputs": [],
   "source": [
    "data=[(10 ,'Anil',50000, 18),\n",
    "(11 ,'Vikas',75000,  16),\n",
    "(12 ,'Nisha',40000,  18),\n",
    "(13 ,'Nidhi',60000,  17),\n",
    "(14 ,'Priya',80000,  18),\n",
    "(15 ,'Mohit',45000,  18),\n",
    "(16 ,'Rajesh',90000, 10),\n",
    "(17 ,'Raman',55000, 16),\n",
    "(18 ,'Sam',65000,   17),\n",
    "(15 ,'Mohit',45000,  18),\n",
    "(13 ,'Nidhi',60000,  17),      \n",
    "(14 ,'Priya',90000,  18),  \n",
    "(18 ,'Sam',65000,   17)\n",
    "     ]"
   ]
  },
  {
   "cell_type": "code",
   "execution_count": 0,
   "metadata": {
    "application/vnd.databricks.v1+cell": {
     "cellMetadata": {
      "byteLimit": 2048000,
      "rowLimit": 10000
     },
     "inputWidgets": {},
     "nuid": "b7510ff2-d813-4eb9-a047-daa75fde4f27",
     "showTitle": false,
     "title": ""
    }
   },
   "outputs": [],
   "source": [
    "schema_mgr=(\"id\",\"name\",\"salary\",\"age\")\n",
    "mgr_df=spark.createDataFrame(data=data,schema=schema_mgr)"
   ]
  },
  {
   "cell_type": "code",
   "execution_count": 0,
   "metadata": {
    "application/vnd.databricks.v1+cell": {
     "cellMetadata": {
      "byteLimit": 2048000,
      "rowLimit": 10000
     },
     "inputWidgets": {},
     "nuid": "d698c185-4f17-4992-a739-1b4da54e0429",
     "showTitle": false,
     "title": ""
    }
   },
   "outputs": [
    {
     "output_type": "stream",
     "name": "stdout",
     "output_type": "stream",
     "text": [
      "+---+------+------+---+\n| id|  name|salary|age|\n+---+------+------+---+\n| 10|  Anil| 50000| 18|\n| 11| Vikas| 75000| 16|\n| 12| Nisha| 40000| 18|\n| 13| Nidhi| 60000| 17|\n| 14| Priya| 80000| 18|\n| 15| Mohit| 45000| 18|\n| 16|Rajesh| 90000| 10|\n| 17| Raman| 55000| 16|\n| 18|   Sam| 65000| 17|\n| 15| Mohit| 45000| 18|\n| 13| Nidhi| 60000| 17|\n| 14| Priya| 90000| 18|\n| 18|   Sam| 65000| 17|\n+---+------+------+---+\n\n"
     ]
    }
   ],
   "source": [
    "mgr_df.show()"
   ]
  },
  {
   "cell_type": "markdown",
   "metadata": {
    "application/vnd.databricks.v1+cell": {
     "cellMetadata": {},
     "inputWidgets": {},
     "nuid": "1098cc46-dee1-4ebc-af25-4ca870e5058d",
     "showTitle": false,
     "title": ""
    }
   },
   "source": [
    "Distinct "
   ]
  },
  {
   "cell_type": "code",
   "execution_count": 0,
   "metadata": {
    "application/vnd.databricks.v1+cell": {
     "cellMetadata": {
      "byteLimit": 2048000,
      "rowLimit": 10000
     },
     "inputWidgets": {},
     "nuid": "ddbd8e00-4f05-4c99-9ab6-00f46903dcbe",
     "showTitle": false,
     "title": ""
    }
   },
   "outputs": [
    {
     "output_type": "stream",
     "name": "stdout",
     "output_type": "stream",
     "text": [
      "+---+------+------+---+\n| id|  name|salary|age|\n+---+------+------+---+\n| 10|  Anil| 50000| 18|\n| 12| Nisha| 40000| 18|\n| 11| Vikas| 75000| 16|\n| 13| Nidhi| 60000| 17|\n| 15| Mohit| 45000| 18|\n| 14| Priya| 80000| 18|\n| 16|Rajesh| 90000| 10|\n| 17| Raman| 55000| 16|\n| 18|   Sam| 65000| 17|\n| 14| Priya| 90000| 18|\n+---+------+------+---+\n\n"
     ]
    }
   ],
   "source": [
    "mgr_df.distinct().show()"
   ]
  },
  {
   "cell_type": "code",
   "execution_count": 0,
   "metadata": {
    "application/vnd.databricks.v1+cell": {
     "cellMetadata": {
      "byteLimit": 2048000,
      "rowLimit": 10000
     },
     "inputWidgets": {},
     "nuid": "0ca04e47-76c6-429d-9604-b731ddbfe17f",
     "showTitle": false,
     "title": ""
    }
   },
   "outputs": [
    {
     "output_type": "stream",
     "name": "stdout",
     "output_type": "stream",
     "text": [
      "+---+------+\n| id|  name|\n+---+------+\n| 10|  Anil|\n| 11| Vikas|\n| 12| Nisha|\n| 13| Nidhi|\n| 15| Mohit|\n| 14| Priya|\n| 17| Raman|\n| 16|Rajesh|\n| 18|   Sam|\n+---+------+\n\n"
     ]
    }
   ],
   "source": [
    "#want to see distinct value on Specfic column\n",
    "mgr_df.select(\"id\",\"name\").distinct().show()"
   ]
  },
  {
   "cell_type": "markdown",
   "metadata": {
    "application/vnd.databricks.v1+cell": {
     "cellMetadata": {},
     "inputWidgets": {},
     "nuid": "ee03a15c-115b-49ce-8f40-ca226da0fe6f",
     "showTitle": false,
     "title": ""
    }
   },
   "source": [
    "Droping Duplicate Records"
   ]
  },
  {
   "cell_type": "code",
   "execution_count": 0,
   "metadata": {
    "application/vnd.databricks.v1+cell": {
     "cellMetadata": {
      "byteLimit": 2048000,
      "rowLimit": 10000
     },
     "inputWidgets": {},
     "nuid": "e9ed4759-2265-42cd-a0bb-e8bf15dcf6c3",
     "showTitle": false,
     "title": ""
    }
   },
   "outputs": [
    {
     "output_type": "stream",
     "name": "stdout",
     "output_type": "stream",
     "text": [
      "+---+------+------+---+\n| id|  name|salary|age|\n+---+------+------+---+\n| 10|  Anil| 50000| 18|\n| 12| Nisha| 40000| 18|\n| 11| Vikas| 75000| 16|\n| 13| Nidhi| 60000| 17|\n| 15| Mohit| 45000| 18|\n| 14| Priya| 80000| 18|\n| 16|Rajesh| 90000| 10|\n| 17| Raman| 55000| 16|\n| 18|   Sam| 65000| 17|\n| 14| Priya| 90000| 18|\n+---+------+------+---+\n\n"
     ]
    }
   ],
   "source": [
    "mgr_df.dropDuplicates([\"id\",\"name\",\"salary\",\"age\"]).show()"
   ]
  },
  {
   "cell_type": "markdown",
   "metadata": {
    "application/vnd.databricks.v1+cell": {
     "cellMetadata": {},
     "inputWidgets": {},
     "nuid": "4260b03f-fd74-4d43-a3a9-f1904e705c37",
     "showTitle": false,
     "title": ""
    }
   },
   "source": [
    "Sort the DataFrame"
   ]
  },
  {
   "cell_type": "code",
   "execution_count": 0,
   "metadata": {
    "application/vnd.databricks.v1+cell": {
     "cellMetadata": {
      "byteLimit": 2048000,
      "rowLimit": 10000
     },
     "inputWidgets": {},
     "nuid": "36998722-9f92-475a-8e09-ed8af080f515",
     "showTitle": false,
     "title": ""
    }
   },
   "outputs": [
    {
     "output_type": "stream",
     "name": "stdout",
     "output_type": "stream",
     "text": [
      "+---+------+------+---+\n| id|  name|salary|age|\n+---+------+------+---+\n| 12| Nisha| 40000| 18|\n| 15| Mohit| 45000| 18|\n| 15| Mohit| 45000| 18|\n| 10|  Anil| 50000| 18|\n| 17| Raman| 55000| 16|\n| 13| Nidhi| 60000| 17|\n| 13| Nidhi| 60000| 17|\n| 18|   Sam| 65000| 17|\n| 18|   Sam| 65000| 17|\n| 11| Vikas| 75000| 16|\n| 14| Priya| 80000| 18|\n| 16|Rajesh| 90000| 10|\n| 14| Priya| 90000| 18|\n+---+------+------+---+\n\n"
     ]
    }
   ],
   "source": [
    "mgr_df.sort(col(\"salary\"),).show()"
   ]
  },
  {
   "cell_type": "code",
   "execution_count": 0,
   "metadata": {
    "application/vnd.databricks.v1+cell": {
     "cellMetadata": {
      "byteLimit": 2048000,
      "rowLimit": 10000
     },
     "inputWidgets": {},
     "nuid": "5a7e902f-19d3-406d-a2af-2dcdf21b5f5f",
     "showTitle": false,
     "title": ""
    }
   },
   "outputs": [
    {
     "output_type": "stream",
     "name": "stdout",
     "output_type": "stream",
     "text": [
      "+---+------+------+---+\n| id|  name|salary|age|\n+---+------+------+---+\n| 16|Rajesh| 90000| 10|\n| 14| Priya| 90000| 18|\n| 14| Priya| 80000| 18|\n| 11| Vikas| 75000| 16|\n| 18|   Sam| 65000| 17|\n| 18|   Sam| 65000| 17|\n| 13| Nidhi| 60000| 17|\n| 13| Nidhi| 60000| 17|\n| 17| Raman| 55000| 16|\n| 10|  Anil| 50000| 18|\n| 15| Mohit| 45000| 18|\n| 15| Mohit| 45000| 18|\n| 12| Nisha| 40000| 18|\n+---+------+------+---+\n\n"
     ]
    }
   ],
   "source": [
    "mgr_df.sort(col(\"salary\").desc()).show()"
   ]
  },
  {
   "cell_type": "markdown",
   "metadata": {
    "application/vnd.databricks.v1+cell": {
     "cellMetadata": {},
     "inputWidgets": {},
     "nuid": "a4a68ecf-75e7-4c14-930e-1f53e0842a05",
     "showTitle": false,
     "title": ""
    }
   },
   "source": [
    "Aggregate Functions in Pysaprk"
   ]
  },
  {
   "cell_type": "code",
   "execution_count": 0,
   "metadata": {
    "application/vnd.databricks.v1+cell": {
     "cellMetadata": {
      "byteLimit": 2048000,
      "rowLimit": 10000
     },
     "inputWidgets": {},
     "nuid": "3488adfd-9767-4a58-b984-fdb45a015413",
     "showTitle": false,
     "title": ""
    }
   },
   "outputs": [
    {
     "output_type": "stream",
     "name": "stdout",
     "output_type": "stream",
     "text": [
      "+----+-------+----+------+-------+-----------+\n|  id|   name| age|salary|country|       dept|\n+----+-------+----+------+-------+-----------+\n|   1| manish|  26| 20000|  india|         IT|\n|   2|  rahul|null| 40000|germany|engineering|\n|   3|  pawan|  12| 60000|  india|      sales|\n|   4|roshini|  44|  null|     uk|engineering|\n|   5|raushan|  35| 70000|  india|      sales|\n|   6|   null|  29|200000|     uk|         IT|\n|   7|   adam|  37| 65000|     us|         IT|\n|   8|  chris|  16| 40000|     us|      sales|\n|null|   null|null|  null|   null|       null|\n|   7|   adam|  37| 65000|     us|         IT|\n+----+-------+----+------+-------+-----------+\n\n"
     ]
    }
   ],
   "source": [
    "employee_df.show()"
   ]
  },
  {
   "cell_type": "code",
   "execution_count": 0,
   "metadata": {
    "application/vnd.databricks.v1+cell": {
     "cellMetadata": {
      "byteLimit": 2048000,
      "rowLimit": 10000
     },
     "inputWidgets": {},
     "nuid": "bb67513a-ea49-4d22-8f41-eb48639053a9",
     "showTitle": false,
     "title": ""
    }
   },
   "outputs": [
    {
     "output_type": "stream",
     "name": "stdout",
     "output_type": "stream",
     "text": [
      "Out[4]: 10"
     ]
    }
   ],
   "source": [
    "#Count\n",
    "employee_df.count()"
   ]
  },
  {
   "cell_type": "code",
   "execution_count": 0,
   "metadata": {
    "application/vnd.databricks.v1+cell": {
     "cellMetadata": {
      "byteLimit": 2048000,
      "rowLimit": 10000
     },
     "inputWidgets": {},
     "nuid": "3b4293b0-eb36-4a90-9818-e25c340a9073",
     "showTitle": false,
     "title": ""
    }
   },
   "outputs": [],
   "source": [
    "from pyspark.sql.functions import *\n",
    "from pyspark.sql.types import *"
   ]
  },
  {
   "cell_type": "code",
   "execution_count": 0,
   "metadata": {
    "application/vnd.databricks.v1+cell": {
     "cellMetadata": {
      "byteLimit": 2048000,
      "rowLimit": 10000
     },
     "inputWidgets": {},
     "nuid": "5ec5cb9c-9556-4036-a70c-bd04a191cfc9",
     "showTitle": false,
     "title": ""
    }
   },
   "outputs": [
    {
     "output_type": "stream",
     "name": "stdout",
     "output_type": "stream",
     "text": [
      "+-----------+\n|count(name)|\n+-----------+\n|          8|\n+-----------+\n\n"
     ]
    }
   ],
   "source": [
    "employee_df.select(count(col(\"name\"))).show()"
   ]
  },
  {
   "cell_type": "code",
   "execution_count": 0,
   "metadata": {
    "application/vnd.databricks.v1+cell": {
     "cellMetadata": {
      "byteLimit": 2048000,
      "rowLimit": 10000
     },
     "inputWidgets": {},
     "nuid": "9eeb8a49-542e-43f7-813f-4566c86f98ba",
     "showTitle": false,
     "title": ""
    }
   },
   "outputs": [
    {
     "output_type": "stream",
     "name": "stdout",
     "output_type": "stream",
     "text": [
      "+-------+-------+-------+\n|sum_sal|max_sal|min_sal|\n+-------+-------+-------+\n| 560000| 200000|  20000|\n+-------+-------+-------+\n\n"
     ]
    }
   ],
   "source": [
    "#Sum,min,max\n",
    "\n",
    "employee_df.select(sum(col(\"salary\")).alias(\"sum_sal\"),\n",
    "                   max(col(\"salary\")).alias(\"max_sal\"),\n",
    "                   min(col(\"salary\")).alias(\"min_sal\")\n",
    "                   ).show()"
   ]
  },
  {
   "cell_type": "markdown",
   "metadata": {
    "application/vnd.databricks.v1+cell": {
     "cellMetadata": {},
     "inputWidgets": {},
     "nuid": "656deed4-98bb-4770-b790-8190b122dcdd",
     "showTitle": false,
     "title": ""
    }
   },
   "source": [
    "GroupBy Function"
   ]
  },
  {
   "cell_type": "code",
   "execution_count": 0,
   "metadata": {
    "application/vnd.databricks.v1+cell": {
     "cellMetadata": {
      "byteLimit": 2048000,
      "rowLimit": 10000
     },
     "inputWidgets": {},
     "nuid": "cc87cb5b-0c3b-4c1b-b18b-b6527d244a84",
     "showTitle": false,
     "title": ""
    }
   },
   "outputs": [
    {
     "output_type": "stream",
     "name": "stdout",
     "output_type": "stream",
     "text": [
      "+----+-------+----+------+-------+-----------+\n|  id|   name| age|salary|country|       dept|\n+----+-------+----+------+-------+-----------+\n|   1| manish|  26| 20000|  india|         IT|\n|   2|  rahul|null| 40000|germany|engineering|\n|   3|  pawan|  12| 60000|  india|      sales|\n|   4|roshini|  44|  null|     uk|engineering|\n|   5|raushan|  35| 70000|  india|      sales|\n|   6|   null|  29|200000|     uk|         IT|\n|   7|   adam|  37| 65000|     us|         IT|\n|   8|  chris|  16| 40000|     us|      sales|\n|null|   null|null|  null|   null|       null|\n|   7|   adam|  37| 65000|     us|         IT|\n+----+-------+----+------+-------+-----------+\n\n"
     ]
    }
   ],
   "source": [
    "  employee_df.show()"
   ]
  },
  {
   "cell_type": "code",
   "execution_count": 0,
   "metadata": {
    "application/vnd.databricks.v1+cell": {
     "cellMetadata": {
      "byteLimit": 2048000,
      "rowLimit": 10000
     },
     "inputWidgets": {},
     "nuid": "f614336f-7bd9-4796-8a89-db587840f3e9",
     "showTitle": false,
     "title": ""
    }
   },
   "outputs": [],
   "source": [
    "employee_df1=employee_df.filter(col(\"name\").isNotNull())"
   ]
  },
  {
   "cell_type": "code",
   "execution_count": 0,
   "metadata": {
    "application/vnd.databricks.v1+cell": {
     "cellMetadata": {
      "byteLimit": 2048000,
      "rowLimit": 10000
     },
     "inputWidgets": {},
     "nuid": "afe4cb21-cfd9-4189-af88-42203e561f89",
     "showTitle": false,
     "title": ""
    }
   },
   "outputs": [
    {
     "output_type": "stream",
     "name": "stdout",
     "output_type": "stream",
     "text": [
      "+-----------+-----------+\n|       dept|sum(salary)|\n+-----------+-----------+\n|         IT|     150000|\n|engineering|      40000|\n|      sales|     170000|\n+-----------+-----------+\n\n"
     ]
    }
   ],
   "source": [
    "employee_df1.groupBy(\"dept\")\\\n",
    "            .agg(sum(\"salary\")).show()"
   ]
  },
  {
   "cell_type": "code",
   "execution_count": 0,
   "metadata": {
    "application/vnd.databricks.v1+cell": {
     "cellMetadata": {
      "byteLimit": 2048000,
      "rowLimit": 10000
     },
     "inputWidgets": {},
     "nuid": "54d3dcc5-4f7d-44a6-b151-91d52d65021a",
     "showTitle": false,
     "title": ""
    }
   },
   "outputs": [
    {
     "output_type": "stream",
     "name": "stdout",
     "output_type": "stream",
     "text": [
      "+-----------+-------+-------+\n|       dept|country|avg_sal|\n+-----------+-------+-------+\n|         IT|  india|20000.0|\n|engineering|germany|40000.0|\n|      sales|  india|65000.0|\n|engineering|     uk|   null|\n|         IT|     us|65000.0|\n|      sales|     us|40000.0|\n+-----------+-------+-------+\n\n"
     ]
    }
   ],
   "source": [
    "employee_df1.groupBy(\"dept\",\"country\")\\\n",
    "            .agg(avg(\"salary\").alias(\"avg_sal\")).show()"
   ]
  },
  {
   "cell_type": "code",
   "execution_count": 0,
   "metadata": {
    "application/vnd.databricks.v1+cell": {
     "cellMetadata": {
      "byteLimit": 2048000,
      "rowLimit": 10000
     },
     "inputWidgets": {},
     "nuid": "95c882c3-d3b2-4149-ba62-5c698e612860",
     "showTitle": false,
     "title": ""
    }
   },
   "outputs": [
    {
     "output_type": "stream",
     "name": "stdout",
     "output_type": "stream",
     "text": [
      "+-----------+-------+\n|       dept|sum_sal|\n+-----------+-------+\n|         IT| 150000|\n|engineering|  40000|\n|      sales| 170000|\n+-----------+-------+\n\n"
     ]
    }
   ],
   "source": [
    "#sparkSQL\n",
    "employee_df1.createOrReplaceTempView(\"employee_dept\")\n",
    "spark.sql(\"\"\"\n",
    "          select dept, sum(salary) as sum_sal\n",
    "          from employee_dept\n",
    "          group by dept\n",
    "          \n",
    "          \"\"\").show()"
   ]
  },
  {
   "cell_type": "markdown",
   "metadata": {
    "application/vnd.databricks.v1+cell": {
     "cellMetadata": {},
     "inputWidgets": {},
     "nuid": "433b2099-c1c6-4e4d-be6b-b89577906bac",
     "showTitle": false,
     "title": ""
    }
   },
   "source": [
    "Joins in Pyspark"
   ]
  },
  {
   "cell_type": "code",
   "execution_count": 0,
   "metadata": {
    "application/vnd.databricks.v1+cell": {
     "cellMetadata": {
      "byteLimit": 2048000,
      "rowLimit": 10000
     },
     "inputWidgets": {},
     "nuid": "930020e9-5f8b-4de3-b92e-d3b13f8b3c00",
     "showTitle": false,
     "title": ""
    }
   },
   "outputs": [],
   "source": [
    "customer_data = [(1,'manish','patna',\"30-05-2022\"),\n",
    "(2,'vikash','kolkata',\"12-03-2023\"),\n",
    "(3,'nikita','delhi',\"25-06-2023\"),\n",
    "(4,'rahul','ranchi',\"24-03-2023\"),\n",
    "(5,'mahesh','jaipur',\"22-03-2023\"),\n",
    "(6,'prantosh','kolkata',\"18-10-2022\"),\n",
    "(7,'raman','patna',\"30-12-2022\"),\n",
    "(8,'prakash','ranchi',\"24-02-2023\"),\n",
    "(9,'ragini','kolkata',\"03-03-2023\"),\n",
    "(10,'raushan','jaipur',\"05-02-2023\")]\n",
    "\n",
    "sales_data = [(1,22,10,\"01-06-2022\"),\n",
    "(1,27,5,\"03-02-2023\"),\n",
    "(2,5,3,\"01-06-2023\"),\n",
    "(5,22,1,\"22-03-2023\"),\n",
    "(7,22,4,\"03-02-2023\"),\n",
    "(9,5,6,\"03-03-2023\"),\n",
    "(2,1,12,\"15-06-2023\"),\n",
    "(1,56,2,\"25-06-2023\"),\n",
    "(5,12,5,\"15-04-2023\"),\n",
    "(11,12,76,\"12-03-2023\")]\n",
    "\n",
    "product_data = [(1, 'fanta',20),\n",
    "(2, 'dew',22),\n",
    "(5, 'sprite',40),\n",
    "(7, 'redbull',100),\n",
    "(12,'mazza',45),\n",
    "(22,'coke',27),\n",
    "(25,'limca',21),\n",
    "(27,'pepsi',14),\n",
    "(56,'sting',10)]\n",
    "\n",
    "\n",
    "customer_schema=['customer_id','customer_name','address','date_of_joining']\n",
    "sales_schema=['customer_id','product_id','quantity','date_of_purchase']\n",
    "product_schema=['id','name','price']"
   ]
  },
  {
   "cell_type": "code",
   "execution_count": 0,
   "metadata": {
    "application/vnd.databricks.v1+cell": {
     "cellMetadata": {
      "byteLimit": 2048000,
      "rowLimit": 10000
     },
     "inputWidgets": {},
     "nuid": "9ecacd55-d003-4ff6-a949-dbf788d5b753",
     "showTitle": false,
     "title": ""
    }
   },
   "outputs": [],
   "source": [
    "customer_df=spark.createDataFrame(data=customer_data,schema=customer_schema)\n",
    "sales_df=spark.createDataFrame(data=sales_data,schema=sales_schema)\n",
    "product_df=spark.createDataFrame(data=product_data,schema=product_schema)"
   ]
  },
  {
   "cell_type": "code",
   "execution_count": 0,
   "metadata": {
    "application/vnd.databricks.v1+cell": {
     "cellMetadata": {
      "byteLimit": 2048000,
      "rowLimit": 10000
     },
     "inputWidgets": {},
     "nuid": "11ab7485-fe70-4e30-b64f-252af7391b7a",
     "showTitle": false,
     "title": ""
    }
   },
   "outputs": [
    {
     "output_type": "stream",
     "name": "stdout",
     "output_type": "stream",
     "text": [
      "+-----------+-------------+-------+---------------+\n|customer_id|customer_name|address|date_of_joining|\n+-----------+-------------+-------+---------------+\n|          1|       manish|  patna|     30-05-2022|\n|          2|       vikash|kolkata|     12-03-2023|\n|          3|       nikita|  delhi|     25-06-2023|\n|          4|        rahul| ranchi|     24-03-2023|\n|          5|       mahesh| jaipur|     22-03-2023|\n|          6|     prantosh|kolkata|     18-10-2022|\n|          7|        raman|  patna|     30-12-2022|\n|          8|      prakash| ranchi|     24-02-2023|\n|          9|       ragini|kolkata|     03-03-2023|\n|         10|      raushan| jaipur|     05-02-2023|\n+-----------+-------------+-------+---------------+\n\n"
     ]
    }
   ],
   "source": [
    " customer_df.show()"
   ]
  },
  {
   "cell_type": "code",
   "execution_count": 0,
   "metadata": {
    "application/vnd.databricks.v1+cell": {
     "cellMetadata": {
      "byteLimit": 2048000,
      "rowLimit": 10000
     },
     "inputWidgets": {},
     "nuid": "5ee0d9b4-84c7-42f9-95cf-315d544232c0",
     "showTitle": false,
     "title": ""
    }
   },
   "outputs": [
    {
     "output_type": "stream",
     "name": "stdout",
     "output_type": "stream",
     "text": [
      "+-----------+----------+--------+----------------+\n|customer_id|product_id|quantity|date_of_purchase|\n+-----------+----------+--------+----------------+\n|          1|        22|      10|      01-06-2022|\n|          1|        27|       5|      03-02-2023|\n|          2|         5|       3|      01-06-2023|\n|          5|        22|       1|      22-03-2023|\n|          7|        22|       4|      03-02-2023|\n|          9|         5|       6|      03-03-2023|\n|          2|         1|      12|      15-06-2023|\n|          1|        56|       2|      25-06-2023|\n|          5|        12|       5|      15-04-2023|\n|         11|        12|      76|      12-03-2023|\n+-----------+----------+--------+----------------+\n\n"
     ]
    }
   ],
   "source": [
    "sales_df.show()"
   ]
  },
  {
   "cell_type": "code",
   "execution_count": 0,
   "metadata": {
    "application/vnd.databricks.v1+cell": {
     "cellMetadata": {
      "byteLimit": 2048000,
      "rowLimit": 10000
     },
     "inputWidgets": {},
     "nuid": "5247f3b8-c4d1-486f-a4f5-7546c1f13286",
     "showTitle": false,
     "title": ""
    }
   },
   "outputs": [
    {
     "output_type": "stream",
     "name": "stdout",
     "output_type": "stream",
     "text": [
      "+-----------+-------------+-------+---------------+-----------+----------+--------+----------------+\n|customer_id|customer_name|address|date_of_joining|customer_id|product_id|quantity|date_of_purchase|\n+-----------+-------------+-------+---------------+-----------+----------+--------+----------------+\n|          1|       manish|  patna|     30-05-2022|          1|        22|      10|      01-06-2022|\n|          1|       manish|  patna|     30-05-2022|          1|        27|       5|      03-02-2023|\n|          1|       manish|  patna|     30-05-2022|          1|        56|       2|      25-06-2023|\n|          2|       vikash|kolkata|     12-03-2023|          2|         5|       3|      01-06-2023|\n|          2|       vikash|kolkata|     12-03-2023|          2|         1|      12|      15-06-2023|\n|          5|       mahesh| jaipur|     22-03-2023|          5|        22|       1|      22-03-2023|\n|          5|       mahesh| jaipur|     22-03-2023|          5|        12|       5|      15-04-2023|\n|          7|        raman|  patna|     30-12-2022|          7|        22|       4|      03-02-2023|\n|          9|       ragini|kolkata|     03-03-2023|          9|         5|       6|      03-03-2023|\n+-----------+-------------+-------+---------------+-----------+----------+--------+----------------+\n\n"
     ]
    }
   ],
   "source": [
    "customer_df.join(sales_df,sales_df[\"customer_id\"]==customer_df[\"customer_id\"],\"inner\").show()"
   ]
  },
  {
   "cell_type": "code",
   "execution_count": 0,
   "metadata": {
    "application/vnd.databricks.v1+cell": {
     "cellMetadata": {
      "byteLimit": 2048000,
      "rowLimit": 10000
     },
     "inputWidgets": {},
     "nuid": "28e72701-38e8-428f-972d-5fa21e82f441",
     "showTitle": false,
     "title": ""
    }
   },
   "outputs": [
    {
     "output_type": "stream",
     "name": "stdout",
     "output_type": "stream",
     "text": [
      "+-----------+-------------+----------+--------+\n|customer_id|customer_name|product_id|quantity|\n+-----------+-------------+----------+--------+\n|          1|       manish|        22|      10|\n|          1|       manish|        27|       5|\n|          1|       manish|        56|       2|\n|          2|       vikash|         5|       3|\n|          2|       vikash|         1|      12|\n|          5|       mahesh|        22|       1|\n|          5|       mahesh|        12|       5|\n|          7|        raman|        22|       4|\n|          9|       ragini|         5|       6|\n+-----------+-------------+----------+--------+\n\n"
     ]
    }
   ],
   "source": [
    "customer_df.join(sales_df,sales_df[\"customer_id\"]==customer_df[\"customer_id\"],\"inner\")\\\n",
    "            .select(sales_df[\"customer_id\"],\"customer_name\",\"product_id\",\"quantity\")\\\n",
    "                .show()"
   ]
  },
  {
   "cell_type": "code",
   "execution_count": 0,
   "metadata": {
    "application/vnd.databricks.v1+cell": {
     "cellMetadata": {
      "byteLimit": 2048000,
      "rowLimit": 10000
     },
     "inputWidgets": {},
     "nuid": "e0cc7579-2bc5-476c-ac84-951b79efc7f7",
     "showTitle": false,
     "title": ""
    }
   },
   "outputs": [
    {
     "output_type": "stream",
     "name": "stdout",
     "output_type": "stream",
     "text": [
      "+-----------+-------------+----------+--------+\n|customer_id|customer_name|product_id|quantity|\n+-----------+-------------+----------+--------+\n|          1|       manish|        56|       2|\n|          1|       manish|        27|       5|\n|          1|       manish|        22|      10|\n|          2|       vikash|         1|      12|\n|          2|       vikash|         5|       3|\n|          3|       nikita|      null|    null|\n|          4|        rahul|      null|    null|\n|          5|       mahesh|        12|       5|\n|          5|       mahesh|        22|       1|\n|          6|     prantosh|      null|    null|\n|          7|        raman|        22|       4|\n|          8|      prakash|      null|    null|\n|          9|       ragini|         5|       6|\n|         10|      raushan|      null|    null|\n+-----------+-------------+----------+--------+\n\n"
     ]
    }
   ],
   "source": [
    "#left Join\n",
    "customer_df.join(sales_df,sales_df[\"customer_id\"]==customer_df[\"customer_id\"],\"left\")\\\n",
    "            .select(customer_df[\"customer_id\"],\"customer_name\",\"product_id\",\"quantity\")\\\n",
    "                .show()"
   ]
  },
  {
   "cell_type": "code",
   "execution_count": 0,
   "metadata": {
    "application/vnd.databricks.v1+cell": {
     "cellMetadata": {
      "byteLimit": 2048000,
      "rowLimit": 10000
     },
     "inputWidgets": {},
     "nuid": "fb8fbec1-0f14-4648-9aeb-5bcb6178a96b",
     "showTitle": false,
     "title": ""
    }
   },
   "outputs": [
    {
     "output_type": "stream",
     "name": "stdout",
     "output_type": "stream",
     "text": [
      "+-----------+----------+--------+----------------+---+-------+-----+\n|customer_id|product_id|quantity|date_of_purchase| id|   name|price|\n+-----------+----------+--------+----------------+---+-------+-----+\n|          2|         1|      12|      15-06-2023|  1|  fanta|   20|\n|       null|      null|    null|            null|  2|    dew|   22|\n|          9|         5|       6|      03-03-2023|  5| sprite|   40|\n|          2|         5|       3|      01-06-2023|  5| sprite|   40|\n|       null|      null|    null|            null|  7|redbull|  100|\n|         11|        12|      76|      12-03-2023| 12|  mazza|   45|\n|          5|        12|       5|      15-04-2023| 12|  mazza|   45|\n|          7|        22|       4|      03-02-2023| 22|   coke|   27|\n|          5|        22|       1|      22-03-2023| 22|   coke|   27|\n|          1|        22|      10|      01-06-2022| 22|   coke|   27|\n|       null|      null|    null|            null| 25|  limca|   21|\n|          1|        27|       5|      03-02-2023| 27|  pepsi|   14|\n|          1|        56|       2|      25-06-2023| 56|  sting|   10|\n+-----------+----------+--------+----------------+---+-------+-----+\n\n"
     ]
    }
   ],
   "source": [
    "#right Join\n",
    "sales_df.join(product_df,sales_df[\"product_id\"]==product_df[\"id\"],\"right\")\\\n",
    "                .show()"
   ]
  },
  {
   "cell_type": "code",
   "execution_count": 0,
   "metadata": {
    "application/vnd.databricks.v1+cell": {
     "cellMetadata": {
      "byteLimit": 2048000,
      "rowLimit": 10000
     },
     "inputWidgets": {},
     "nuid": "65279cd8-dd2a-4842-8c6e-6245222ebec9",
     "showTitle": false,
     "title": ""
    }
   },
   "outputs": [
    {
     "output_type": "stream",
     "name": "stdout",
     "output_type": "stream",
     "text": [
      "+-----------+-------------+-------+---------------+\n|customer_id|customer_name|address|date_of_joining|\n+-----------+-------------+-------+---------------+\n|          3|       nikita|  delhi|     25-06-2023|\n|          4|        rahul| ranchi|     24-03-2023|\n|          6|     prantosh|kolkata|     18-10-2022|\n|          8|      prakash| ranchi|     24-02-2023|\n|         10|      raushan| jaipur|     05-02-2023|\n+-----------+-------------+-------+---------------+\n\n"
     ]
    }
   ],
   "source": [
    "#left anti join\n",
    "customer_df.join(sales_df,sales_df[\"customer_id\"]==customer_df[\"customer_id\"],\"left_anti\").show()"
   ]
  },
  {
   "cell_type": "markdown",
   "metadata": {
    "application/vnd.databricks.v1+cell": {
     "cellMetadata": {},
     "inputWidgets": {},
     "nuid": "75d1a7ce-0900-40c7-81fb-fe64cbfe3de5",
     "showTitle": false,
     "title": ""
    }
   },
   "source": [
    "Window Function in Spark"
   ]
  },
  {
   "cell_type": "code",
   "execution_count": 0,
   "metadata": {
    "application/vnd.databricks.v1+cell": {
     "cellMetadata": {
      "byteLimit": 2048000,
      "rowLimit": 10000
     },
     "inputWidgets": {},
     "nuid": "732581c4-01ae-46d0-bff0-477c71446c35",
     "showTitle": false,
     "title": ""
    }
   },
   "outputs": [],
   "source": [
    "emp_data = [(1,'manish',50000,'IT','m'),\n",
    "(2,'vikash',60000,'sales','m'),\n",
    "(3,'raushan',70000,'marketing','m'),\n",
    "(4,'mukesh',80000,'IT','m'),\n",
    "(5,'priti',90000,'sales','f'),\n",
    "(6,'nikita',45000,'marketing','f'),\n",
    "(7,'ragini',55000,'marketing','f'),\n",
    "(8,'rashi',100000,'IT','f'),\n",
    "(9,'aditya',65000,'IT','m'),\n",
    "(10,'rahul',50000,'marketing','m'),\n",
    "(11,'rakhi',50000,'IT','f'),\n",
    "(12,'akhilesh',90000,'sales','m')]\n",
    "\n",
    "schema1_dept=(\"id\",\"name\",\"salary\",\"dept\",\"gender\")"
   ]
  },
  {
   "cell_type": "code",
   "execution_count": 0,
   "metadata": {
    "application/vnd.databricks.v1+cell": {
     "cellMetadata": {
      "byteLimit": 2048000,
      "rowLimit": 10000
     },
     "inputWidgets": {},
     "nuid": "259f58cd-48e1-41b2-9204-0e44245126c0",
     "showTitle": false,
     "title": ""
    }
   },
   "outputs": [],
   "source": [
    "emp_dept_df=spark.createDataFrame(data=emp_data,schema=schema1_dept)"
   ]
  },
  {
   "cell_type": "code",
   "execution_count": 0,
   "metadata": {
    "application/vnd.databricks.v1+cell": {
     "cellMetadata": {
      "byteLimit": 2048000,
      "rowLimit": 10000
     },
     "inputWidgets": {},
     "nuid": "a0626ec5-d5ec-4cc4-bca1-1331ae149ade",
     "showTitle": false,
     "title": ""
    }
   },
   "outputs": [],
   "source": [
    "from pyspark.sql.functions import *\n",
    "from pyspark.sql.types import *\n",
    "from pyspark.sql.window import Window"
   ]
  },
  {
   "cell_type": "code",
   "execution_count": 0,
   "metadata": {
    "application/vnd.databricks.v1+cell": {
     "cellMetadata": {
      "byteLimit": 2048000,
      "rowLimit": 10000
     },
     "inputWidgets": {},
     "nuid": "737dc4d1-41df-4ee3-89d2-0ca2b6e06f23",
     "showTitle": false,
     "title": ""
    }
   },
   "outputs": [
    {
     "output_type": "stream",
     "name": "stdout",
     "output_type": "stream",
     "text": [
      "+---+--------+------+---------+------+---+---+---+\n|id |name    |salary|dept     |gender|rn |rk |drn|\n+---+--------+------+---------+------+---+---+---+\n|1  |manish  |50000 |IT       |m     |1  |1  |1  |\n|11 |rakhi   |50000 |IT       |f     |2  |1  |1  |\n|9  |aditya  |65000 |IT       |m     |3  |3  |2  |\n|4  |mukesh  |80000 |IT       |m     |4  |4  |3  |\n|8  |rashi   |100000|IT       |f     |5  |5  |4  |\n|6  |nikita  |45000 |marketing|f     |1  |1  |1  |\n|10 |rahul   |50000 |marketing|m     |2  |2  |2  |\n|7  |ragini  |55000 |marketing|f     |3  |3  |3  |\n|3  |raushan |70000 |marketing|m     |4  |4  |4  |\n|2  |vikash  |60000 |sales    |m     |1  |1  |1  |\n|5  |priti   |90000 |sales    |f     |2  |2  |2  |\n|12 |akhilesh|90000 |sales    |m     |3  |2  |2  |\n+---+--------+------+---------+------+---+---+---+\n\n"
     ]
    }
   ],
   "source": [
    "window_dept=Window.partitionBy(\"dept\").orderBy(\"salary\")\n",
    "\n",
    "emp_dept_df.withColumn(\"rn\",row_number().over(window_dept))\\\n",
    "            .withColumn(\"rk\",rank().over(window_dept))\\\n",
    "                .withColumn(\"drn\",dense_rank().over(window_dept))\\\n",
    "           .show(truncate=False)"
   ]
  },
  {
   "cell_type": "code",
   "execution_count": 0,
   "metadata": {
    "application/vnd.databricks.v1+cell": {
     "cellMetadata": {
      "byteLimit": 2048000,
      "rowLimit": 10000
     },
     "inputWidgets": {},
     "nuid": "67b76009-205d-428f-85d8-5b62b22c9bf7",
     "showTitle": false,
     "title": ""
    }
   },
   "outputs": [
    {
     "output_type": "stream",
     "name": "stdout",
     "output_type": "stream",
     "text": [
      "+---+--------+------+---------+------+---+\n|id |name    |salary|dept     |gender|drk|\n+---+--------+------+---------+------+---+\n|1  |manish  |50000 |IT       |m     |1  |\n|11 |rakhi   |50000 |IT       |f     |1  |\n|9  |aditya  |65000 |IT       |m     |2  |\n|6  |nikita  |45000 |marketing|f     |1  |\n|10 |rahul   |50000 |marketing|m     |2  |\n|2  |vikash  |60000 |sales    |m     |1  |\n|5  |priti   |90000 |sales    |f     |2  |\n|12 |akhilesh|90000 |sales    |m     |2  |\n+---+--------+------+---------+------+---+\n\n"
     ]
    }
   ],
   "source": [
    "emp_dept_df.withColumn(\"drk\",dense_rank().over(window_dept))\\\n",
    "            .filter(col(\"drk\")<=2)\\\n",
    "                .show(truncate=False)"
   ]
  },
  {
   "cell_type": "markdown",
   "metadata": {
    "application/vnd.databricks.v1+cell": {
     "cellMetadata": {},
     "inputWidgets": {},
     "nuid": "d78ec34f-047e-428d-ac17-8ab8f08264b0",
     "showTitle": false,
     "title": ""
    }
   },
   "source": [
    "Lead and Lag"
   ]
  },
  {
   "cell_type": "code",
   "execution_count": 0,
   "metadata": {
    "application/vnd.databricks.v1+cell": {
     "cellMetadata": {
      "byteLimit": 2048000,
      "rowLimit": 10000
     },
     "inputWidgets": {},
     "nuid": "ebaf56ad-1cd2-40bb-9b60-6ecdbfb4d4fc",
     "showTitle": false,
     "title": ""
    }
   },
   "outputs": [],
   "source": [
    "product_data = [\n",
    "(1,\"iphone\",\"01-01-2023\",1500000),\n",
    "(2,\"samsung\",\"01-01-2023\",1100000),\n",
    "(3,\"oneplus\",\"01-01-2023\",1100000),\n",
    "(1,\"iphone\",\"01-02-2023\",1300000),\n",
    "(2,\"samsung\",\"01-02-2023\",1120000),\n",
    "(3,\"oneplus\",\"01-02-2023\",1120000),\n",
    "(1,\"iphone\",\"01-03-2023\",1600000),\n",
    "(2,\"samsung\",\"01-03-2023\",1080000),\n",
    "(3,\"oneplus\",\"01-03-2023\",1160000),\n",
    "(1,\"iphone\",\"01-04-2023\",1700000),\n",
    "(2,\"samsung\",\"01-04-2023\",1800000),\n",
    "(3,\"oneplus\",\"01-04-2023\",1170000),\n",
    "(1,\"iphone\",\"01-05-2023\",1200000),\n",
    "(2,\"samsung\",\"01-05-2023\",980000),\n",
    "(3,\"oneplus\",\"01-05-2023\",1175000),\n",
    "(1,\"iphone\",\"01-06-2023\",1100000),\n",
    "(2,\"samsung\",\"01-06-2023\",1100000),\n",
    "(3,\"oneplus\",\"01-06-2023\",1200000)\n",
    "]\n",
    "\n",
    "product_schema=(\"pid\",\"product_name\",\"sale_date\",\"sales\")\n"
   ]
  },
  {
   "cell_type": "code",
   "execution_count": 0,
   "metadata": {
    "application/vnd.databricks.v1+cell": {
     "cellMetadata": {
      "byteLimit": 2048000,
      "rowLimit": 10000
     },
     "inputWidgets": {},
     "nuid": "3023259e-10f5-4451-89fb-a147124be947",
     "showTitle": false,
     "title": ""
    }
   },
   "outputs": [],
   "source": [
    "product_sale_df=spark.createDataFrame(data=product_data,schema=product_schema)"
   ]
  },
  {
   "cell_type": "code",
   "execution_count": 0,
   "metadata": {
    "application/vnd.databricks.v1+cell": {
     "cellMetadata": {
      "byteLimit": 2048000,
      "rowLimit": 10000
     },
     "inputWidgets": {},
     "nuid": "0320988f-7295-48d9-bf45-1b350d9a2126",
     "showTitle": false,
     "title": ""
    }
   },
   "outputs": [
    {
     "output_type": "stream",
     "name": "stdout",
     "output_type": "stream",
     "text": [
      "+---+------------+----------+-------+-------------------+\n|pid|product_name| sale_date|  sales|perivous_month_sale|\n+---+------------+----------+-------+-------------------+\n|  1|      iphone|01-01-2023|1500000|               null|\n|  1|      iphone|01-02-2023|1300000|            1500000|\n|  1|      iphone|01-03-2023|1600000|            1300000|\n|  1|      iphone|01-04-2023|1700000|            1600000|\n|  1|      iphone|01-05-2023|1200000|            1700000|\n|  1|      iphone|01-06-2023|1100000|            1200000|\n|  2|     samsung|01-01-2023|1100000|               null|\n|  2|     samsung|01-02-2023|1120000|            1100000|\n|  2|     samsung|01-03-2023|1080000|            1120000|\n|  2|     samsung|01-04-2023|1800000|            1080000|\n|  2|     samsung|01-05-2023| 980000|            1800000|\n|  2|     samsung|01-06-2023|1100000|             980000|\n|  3|     oneplus|01-01-2023|1100000|               null|\n|  3|     oneplus|01-02-2023|1120000|            1100000|\n|  3|     oneplus|01-03-2023|1160000|            1120000|\n|  3|     oneplus|01-04-2023|1170000|            1160000|\n|  3|     oneplus|01-05-2023|1175000|            1170000|\n|  3|     oneplus|01-06-2023|1200000|            1175000|\n+---+------------+----------+-------+-------------------+\n\n"
     ]
    }
   ],
   "source": [
    "window_product=Window.partitionBy(\"pid\").orderBy(\"sale_date\")\n",
    "\n",
    "last_month_df=product_sale_df.withColumn(\"perivous_month_sale\",lag(col(\"sales\"),1).over(window_product))\n",
    "\n",
    "last_month_df.show()"
   ]
  },
  {
   "cell_type": "code",
   "execution_count": 0,
   "metadata": {
    "application/vnd.databricks.v1+cell": {
     "cellMetadata": {
      "byteLimit": 2048000,
      "rowLimit": 10000
     },
     "inputWidgets": {},
     "nuid": "e6bbec45-2af8-460a-935b-4d787a5f3e16",
     "showTitle": false,
     "title": ""
    }
   },
   "outputs": [
    {
     "output_type": "stream",
     "name": "stdout",
     "output_type": "stream",
     "text": [
      "+---+------------+----------+-------+-------------------+-------------------+\n|pid|product_name| sale_date|  sales|perivous_month_sale|   per_loss_or_gain|\n+---+------------+----------+-------+-------------------+-------------------+\n|  1|      iphone|01-01-2023|1500000|               null|               null|\n|  1|      iphone|01-02-2023|1300000|            1500000|-15.384615384615385|\n|  1|      iphone|01-03-2023|1600000|            1300000|              18.75|\n|  1|      iphone|01-04-2023|1700000|            1600000|   5.88235294117647|\n|  1|      iphone|01-05-2023|1200000|            1700000| -41.66666666666667|\n|  1|      iphone|01-06-2023|1100000|            1200000| -9.090909090909092|\n|  2|     samsung|01-01-2023|1100000|               null|               null|\n|  2|     samsung|01-02-2023|1120000|            1100000| 1.7857142857142856|\n|  2|     samsung|01-03-2023|1080000|            1120000|-3.7037037037037033|\n|  2|     samsung|01-04-2023|1800000|            1080000|               40.0|\n|  2|     samsung|01-05-2023| 980000|            1800000|  -83.6734693877551|\n|  2|     samsung|01-06-2023|1100000|             980000| 10.909090909090908|\n|  3|     oneplus|01-01-2023|1100000|               null|               null|\n|  3|     oneplus|01-02-2023|1120000|            1100000| 1.7857142857142856|\n|  3|     oneplus|01-03-2023|1160000|            1120000| 3.4482758620689653|\n|  3|     oneplus|01-04-2023|1170000|            1160000| 0.8547008547008548|\n|  3|     oneplus|01-05-2023|1175000|            1170000|  0.425531914893617|\n|  3|     oneplus|01-06-2023|1200000|            1175000|  2.083333333333333|\n+---+------------+----------+-------+-------------------+-------------------+\n\n"
     ]
    }
   ],
   "source": [
    "last_month_df.withColumn(\"per_loss_or_gain\",\n",
    "                         ((col(\"sales\")-col(\"perivous_month_sale\"))/col(\"sales\"))*100)\\\n",
    "                         .show()"
   ]
  },
  {
   "cell_type": "markdown",
   "metadata": {
    "application/vnd.databricks.v1+cell": {
     "cellMetadata": {},
     "inputWidgets": {},
     "nuid": "02660c46-033e-461e-a05d-0c24863ad1bf",
     "showTitle": false,
     "title": ""
    }
   },
   "source": [
    "First_value and Last_Value"
   ]
  },
  {
   "cell_type": "code",
   "execution_count": 0,
   "metadata": {
    "application/vnd.databricks.v1+cell": {
     "cellMetadata": {
      "byteLimit": 2048000,
      "rowLimit": 10000
     },
     "inputWidgets": {},
     "nuid": "e74967de-ef16-4af7-a318-0855ea0126f1",
     "showTitle": false,
     "title": ""
    }
   },
   "outputs": [
    {
     "output_type": "stream",
     "name": "stdout",
     "output_type": "stream",
     "text": [
      "+---+------------+----------+-------+\n|pid|product_name| sale_date|  sales|\n+---+------------+----------+-------+\n|  1|      iphone|01-01-2023|1500000|\n|  2|     samsung|01-01-2023|1100000|\n|  3|     oneplus|01-01-2023|1100000|\n|  1|      iphone|01-02-2023|1300000|\n|  2|     samsung|01-02-2023|1120000|\n|  3|     oneplus|01-02-2023|1120000|\n|  1|      iphone|01-03-2023|1600000|\n|  2|     samsung|01-03-2023|1080000|\n|  3|     oneplus|01-03-2023|1160000|\n|  1|      iphone|01-04-2023|1700000|\n|  2|     samsung|01-04-2023|1800000|\n|  3|     oneplus|01-04-2023|1170000|\n|  1|      iphone|01-05-2023|1200000|\n|  2|     samsung|01-05-2023| 980000|\n|  3|     oneplus|01-05-2023|1175000|\n|  1|      iphone|01-06-2023|1100000|\n|  2|     samsung|01-06-2023|1100000|\n|  3|     oneplus|01-06-2023|1200000|\n+---+------------+----------+-------+\n\n"
     ]
    }
   ],
   "source": [
    "product_sale_df.show()"
   ]
  },
  {
   "cell_type": "code",
   "execution_count": 0,
   "metadata": {
    "application/vnd.databricks.v1+cell": {
     "cellMetadata": {
      "byteLimit": 2048000,
      "rowLimit": 10000
     },
     "inputWidgets": {},
     "nuid": "59e92912-ec43-4dc4-9ee3-2800801e789b",
     "showTitle": false,
     "title": ""
    }
   },
   "outputs": [
    {
     "output_type": "stream",
     "name": "stdout",
     "output_type": "stream",
     "text": [
      "+---+------------+----------+-------+-----------+----------+\n|pid|product_name| sale_date|  sales|first_value|last_value|\n+---+------------+----------+-------+-----------+----------+\n|  1|      iphone|01-01-2023|1500000|    1500000|   1100000|\n|  1|      iphone|01-02-2023|1300000|    1500000|   1100000|\n|  1|      iphone|01-03-2023|1600000|    1500000|   1100000|\n|  1|      iphone|01-04-2023|1700000|    1500000|   1100000|\n|  1|      iphone|01-05-2023|1200000|    1500000|   1100000|\n|  1|      iphone|01-06-2023|1100000|    1500000|   1100000|\n|  2|     samsung|01-01-2023|1100000|    1100000|   1100000|\n|  2|     samsung|01-02-2023|1120000|    1100000|   1100000|\n|  2|     samsung|01-03-2023|1080000|    1100000|   1100000|\n|  2|     samsung|01-04-2023|1800000|    1100000|   1100000|\n|  2|     samsung|01-05-2023| 980000|    1100000|   1100000|\n|  2|     samsung|01-06-2023|1100000|    1100000|   1100000|\n|  3|     oneplus|01-01-2023|1100000|    1100000|   1200000|\n|  3|     oneplus|01-02-2023|1120000|    1100000|   1200000|\n|  3|     oneplus|01-03-2023|1160000|    1100000|   1200000|\n|  3|     oneplus|01-04-2023|1170000|    1100000|   1200000|\n|  3|     oneplus|01-05-2023|1175000|    1100000|   1200000|\n|  3|     oneplus|01-06-2023|1200000|    1100000|   1200000|\n+---+------------+----------+-------+-----------+----------+\n\n"
     ]
    }
   ],
   "source": [
    "window_dept=Window.partitionBy(\"pid\").orderBy(\"sale_date\").rowsBetween(Window.unboundedPreceding,Window.unboundedFollowing)\n",
    "\n",
    "product_sale_df.withColumn(\"first_value\",first(\"sales\").over(window_dept))\\\n",
    "    .withColumn(\"last_value\",last(\"sales\").over(window_dept))\\\n",
    "      .show()"
   ]
  },
  {
   "cell_type": "code",
   "execution_count": 0,
   "metadata": {
    "application/vnd.databricks.v1+cell": {
     "cellMetadata": {
      "byteLimit": 2048000,
      "rowLimit": 10000
     },
     "inputWidgets": {},
     "nuid": "735a5114-cb65-4cd6-9771-aa2586e5cd76",
     "showTitle": false,
     "title": ""
    }
   },
   "outputs": [
    {
     "output_type": "stream",
     "name": "stdout",
     "output_type": "stream",
     "text": [
      "+---+------------+----------+-------+-----------+\n|pid|product_name| sale_date|  sales|running_sum|\n+---+------------+----------+-------+-----------+\n|  1|      iphone|01-01-2023|1500000|    1500000|\n|  1|      iphone|01-02-2023|1300000|    2800000|\n|  1|      iphone|01-03-2023|1600000|    4400000|\n|  1|      iphone|01-04-2023|1700000|    4600000|\n|  1|      iphone|01-05-2023|1200000|    4500000|\n|  1|      iphone|01-06-2023|1100000|    4000000|\n|  2|     samsung|01-01-2023|1100000|    1100000|\n|  2|     samsung|01-02-2023|1120000|    2220000|\n|  2|     samsung|01-03-2023|1080000|    3300000|\n|  2|     samsung|01-04-2023|1800000|    4000000|\n|  2|     samsung|01-05-2023| 980000|    3860000|\n|  2|     samsung|01-06-2023|1100000|    3880000|\n|  3|     oneplus|01-01-2023|1100000|    1100000|\n|  3|     oneplus|01-02-2023|1120000|    2220000|\n|  3|     oneplus|01-03-2023|1160000|    3380000|\n|  3|     oneplus|01-04-2023|1170000|    3450000|\n|  3|     oneplus|01-05-2023|1175000|    3505000|\n|  3|     oneplus|01-06-2023|1200000|    3545000|\n+---+------------+----------+-------+-----------+\n\n"
     ]
    }
   ],
   "source": [
    "window_3months=Window.partitionBy(\"pid\").orderBy(\"sale_date\").rowsBetween(-2,0)\n",
    "\n",
    "product_sale_df.withColumn(\"running_sum\",sum(\"sales\").over(window_3months)).show()"
   ]
  },
  {
   "cell_type": "code",
   "execution_count": 0,
   "metadata": {
    "application/vnd.databricks.v1+cell": {
     "cellMetadata": {},
     "inputWidgets": {},
     "nuid": "2e3e0bdd-c54d-4848-a262-6fedd4df7d2b",
     "showTitle": false,
     "title": ""
    }
   },
   "outputs": [],
   "source": []
  }
 ],
 "metadata": {
  "application/vnd.databricks.v1+notebook": {
   "dashboards": [],
   "environmentMetadata": null,
   "language": "python",
   "notebookMetadata": {
    "pythonIndentUnit": 4
   },
   "notebookName": "Pspark",
   "widgets": {}
  }
 },
 "nbformat": 4,
 "nbformat_minor": 0
}
